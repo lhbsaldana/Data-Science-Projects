{
  "nbformat": 4,
  "nbformat_minor": 0,
  "metadata": {
    "colab": {
      "provenance": [],
      "collapsed_sections": [
        "iUxeifI6A9gz"
      ],
      "authorship_tag": "ABX9TyPB6XSKHsrmCv1iHirrUNFZ",
      "include_colab_link": true
    },
    "kernelspec": {
      "name": "python3",
      "display_name": "Python 3"
    },
    "language_info": {
      "name": "python"
    }
  },
  "cells": [
    {
      "cell_type": "markdown",
      "metadata": {
        "id": "view-in-github",
        "colab_type": "text"
      },
      "source": [
        "<a href=\"https://colab.research.google.com/github/lhbsaldana/Data-Science-Projects/blob/main/%5BTM%5D_Code_Case_Study.ipynb\" target=\"_parent\"><img src=\"https://colab.research.google.com/assets/colab-badge.svg\" alt=\"Open In Colab\"/></a>"
      ]
    },
    {
      "cell_type": "markdown",
      "source": [
        "##Importing necessary libraries "
      ],
      "metadata": {
        "id": "ZJCY2Ohma5FK"
      }
    },
    {
      "cell_type": "code",
      "source": [
        "import pandas as pd\n",
        "import numpy as np\n",
        "import matplotlib.pyplot as plt"
      ],
      "metadata": {
        "id": "SC15amfYaVK7"
      },
      "execution_count": null,
      "outputs": []
    },
    {
      "cell_type": "markdown",
      "source": [
        "##Importing dataset"
      ],
      "metadata": {
        "id": "w-hKoNUqbMio"
      }
    },
    {
      "cell_type": "code",
      "source": [
        "from google.colab import drive \n",
        "drive.mount('/content/drive')\n",
        "directory = \"/content/drive/MyDrive/Colab Notebooks/\" "
      ],
      "metadata": {
        "colab": {
          "base_uri": "https://localhost:8080/"
        },
        "id": "8V3ZLIwlaXPF",
        "outputId": "f02feceb-93f6-429d-c942-72ab1ac82e4b"
      },
      "execution_count": null,
      "outputs": [
        {
          "output_type": "stream",
          "name": "stdout",
          "text": [
            "Drive already mounted at /content/drive; to attempt to forcibly remount, call drive.mount(\"/content/drive\", force_remount=True).\n"
          ]
        }
      ]
    },
    {
      "cell_type": "code",
      "execution_count": null,
      "metadata": {
        "id": "5Xo-Y1Q-ZvpX"
      },
      "outputs": [],
      "source": [
        "dataset = pd.read_csv(directory+\"povstat_processed.csv\")"
      ]
    },
    {
      "cell_type": "code",
      "source": [
        "dataset.shape"
      ],
      "metadata": {
        "colab": {
          "base_uri": "https://localhost:8080/"
        },
        "id": "ivUV26h5Robz",
        "outputId": "b135a241-084b-43a4-a7e5-799ae00762bc"
      },
      "execution_count": null,
      "outputs": [
        {
          "output_type": "execute_result",
          "data": {
            "text/plain": [
              "(3605, 8)"
            ]
          },
          "metadata": {},
          "execution_count": 154
        }
      ]
    },
    {
      "cell_type": "markdown",
      "source": [
        "The dataset consists of 3605 records and 8 columns "
      ],
      "metadata": {
        "id": "AYwqCLFlRs3y"
      }
    },
    {
      "cell_type": "markdown",
      "source": [
        "Show the first 5 rows of the dataset"
      ],
      "metadata": {
        "id": "jAMofc8fRzX3"
      }
    },
    {
      "cell_type": "code",
      "source": [
        "dataset.head()"
      ],
      "metadata": {
        "colab": {
          "base_uri": "https://localhost:8080/",
          "height": 206
        },
        "id": "ixVGHJFQbK98",
        "outputId": "499d8187-d449-48ac-d2ac-5b0949949411"
      },
      "execution_count": null,
      "outputs": [
        {
          "output_type": "execute_result",
          "data": {
            "text/plain": [
              "   Unnamed: 0                                        Variable  Year  \\\n",
              "0           0  Annual Per Capita Poverty Threshold (in Pesos)  1991   \n",
              "1           1  Annual Per Capita Poverty Threshold (in Pesos)  2006   \n",
              "2           2  Annual Per Capita Poverty Threshold (in Pesos)  2009   \n",
              "3           3  Annual Per Capita Poverty Threshold (in Pesos)  2012   \n",
              "4           4  Annual Per Capita Poverty Threshold (in Pesos)  2015   \n",
              "\n",
              "       province      value adm_level region      unit  \n",
              "0  1st District        NaN  District    NCR  in Pesos  \n",
              "1  1st District    15,699   District    NCR  in Pesos  \n",
              "2  1st District    19,227   District    NCR  in Pesos  \n",
              "3  1st District    20,344   District    NCR  in Pesos  \n",
              "4  1st District    25,007   District    NCR  in Pesos  "
            ],
            "text/html": [
              "\n",
              "  <div id=\"df-ac1c08cd-4d59-44a1-8340-d136dcabc89d\">\n",
              "    <div class=\"colab-df-container\">\n",
              "      <div>\n",
              "<style scoped>\n",
              "    .dataframe tbody tr th:only-of-type {\n",
              "        vertical-align: middle;\n",
              "    }\n",
              "\n",
              "    .dataframe tbody tr th {\n",
              "        vertical-align: top;\n",
              "    }\n",
              "\n",
              "    .dataframe thead th {\n",
              "        text-align: right;\n",
              "    }\n",
              "</style>\n",
              "<table border=\"1\" class=\"dataframe\">\n",
              "  <thead>\n",
              "    <tr style=\"text-align: right;\">\n",
              "      <th></th>\n",
              "      <th>Unnamed: 0</th>\n",
              "      <th>Variable</th>\n",
              "      <th>Year</th>\n",
              "      <th>province</th>\n",
              "      <th>value</th>\n",
              "      <th>adm_level</th>\n",
              "      <th>region</th>\n",
              "      <th>unit</th>\n",
              "    </tr>\n",
              "  </thead>\n",
              "  <tbody>\n",
              "    <tr>\n",
              "      <th>0</th>\n",
              "      <td>0</td>\n",
              "      <td>Annual Per Capita Poverty Threshold (in Pesos)</td>\n",
              "      <td>1991</td>\n",
              "      <td>1st District</td>\n",
              "      <td>NaN</td>\n",
              "      <td>District</td>\n",
              "      <td>NCR</td>\n",
              "      <td>in Pesos</td>\n",
              "    </tr>\n",
              "    <tr>\n",
              "      <th>1</th>\n",
              "      <td>1</td>\n",
              "      <td>Annual Per Capita Poverty Threshold (in Pesos)</td>\n",
              "      <td>2006</td>\n",
              "      <td>1st District</td>\n",
              "      <td>15,699</td>\n",
              "      <td>District</td>\n",
              "      <td>NCR</td>\n",
              "      <td>in Pesos</td>\n",
              "    </tr>\n",
              "    <tr>\n",
              "      <th>2</th>\n",
              "      <td>2</td>\n",
              "      <td>Annual Per Capita Poverty Threshold (in Pesos)</td>\n",
              "      <td>2009</td>\n",
              "      <td>1st District</td>\n",
              "      <td>19,227</td>\n",
              "      <td>District</td>\n",
              "      <td>NCR</td>\n",
              "      <td>in Pesos</td>\n",
              "    </tr>\n",
              "    <tr>\n",
              "      <th>3</th>\n",
              "      <td>3</td>\n",
              "      <td>Annual Per Capita Poverty Threshold (in Pesos)</td>\n",
              "      <td>2012</td>\n",
              "      <td>1st District</td>\n",
              "      <td>20,344</td>\n",
              "      <td>District</td>\n",
              "      <td>NCR</td>\n",
              "      <td>in Pesos</td>\n",
              "    </tr>\n",
              "    <tr>\n",
              "      <th>4</th>\n",
              "      <td>4</td>\n",
              "      <td>Annual Per Capita Poverty Threshold (in Pesos)</td>\n",
              "      <td>2015</td>\n",
              "      <td>1st District</td>\n",
              "      <td>25,007</td>\n",
              "      <td>District</td>\n",
              "      <td>NCR</td>\n",
              "      <td>in Pesos</td>\n",
              "    </tr>\n",
              "  </tbody>\n",
              "</table>\n",
              "</div>\n",
              "      <button class=\"colab-df-convert\" onclick=\"convertToInteractive('df-ac1c08cd-4d59-44a1-8340-d136dcabc89d')\"\n",
              "              title=\"Convert this dataframe to an interactive table.\"\n",
              "              style=\"display:none;\">\n",
              "        \n",
              "  <svg xmlns=\"http://www.w3.org/2000/svg\" height=\"24px\"viewBox=\"0 0 24 24\"\n",
              "       width=\"24px\">\n",
              "    <path d=\"M0 0h24v24H0V0z\" fill=\"none\"/>\n",
              "    <path d=\"M18.56 5.44l.94 2.06.94-2.06 2.06-.94-2.06-.94-.94-2.06-.94 2.06-2.06.94zm-11 1L8.5 8.5l.94-2.06 2.06-.94-2.06-.94L8.5 2.5l-.94 2.06-2.06.94zm10 10l.94 2.06.94-2.06 2.06-.94-2.06-.94-.94-2.06-.94 2.06-2.06.94z\"/><path d=\"M17.41 7.96l-1.37-1.37c-.4-.4-.92-.59-1.43-.59-.52 0-1.04.2-1.43.59L10.3 9.45l-7.72 7.72c-.78.78-.78 2.05 0 2.83L4 21.41c.39.39.9.59 1.41.59.51 0 1.02-.2 1.41-.59l7.78-7.78 2.81-2.81c.8-.78.8-2.07 0-2.86zM5.41 20L4 18.59l7.72-7.72 1.47 1.35L5.41 20z\"/>\n",
              "  </svg>\n",
              "      </button>\n",
              "      \n",
              "  <style>\n",
              "    .colab-df-container {\n",
              "      display:flex;\n",
              "      flex-wrap:wrap;\n",
              "      gap: 12px;\n",
              "    }\n",
              "\n",
              "    .colab-df-convert {\n",
              "      background-color: #E8F0FE;\n",
              "      border: none;\n",
              "      border-radius: 50%;\n",
              "      cursor: pointer;\n",
              "      display: none;\n",
              "      fill: #1967D2;\n",
              "      height: 32px;\n",
              "      padding: 0 0 0 0;\n",
              "      width: 32px;\n",
              "    }\n",
              "\n",
              "    .colab-df-convert:hover {\n",
              "      background-color: #E2EBFA;\n",
              "      box-shadow: 0px 1px 2px rgba(60, 64, 67, 0.3), 0px 1px 3px 1px rgba(60, 64, 67, 0.15);\n",
              "      fill: #174EA6;\n",
              "    }\n",
              "\n",
              "    [theme=dark] .colab-df-convert {\n",
              "      background-color: #3B4455;\n",
              "      fill: #D2E3FC;\n",
              "    }\n",
              "\n",
              "    [theme=dark] .colab-df-convert:hover {\n",
              "      background-color: #434B5C;\n",
              "      box-shadow: 0px 1px 3px 1px rgba(0, 0, 0, 0.15);\n",
              "      filter: drop-shadow(0px 1px 2px rgba(0, 0, 0, 0.3));\n",
              "      fill: #FFFFFF;\n",
              "    }\n",
              "  </style>\n",
              "\n",
              "      <script>\n",
              "        const buttonEl =\n",
              "          document.querySelector('#df-ac1c08cd-4d59-44a1-8340-d136dcabc89d button.colab-df-convert');\n",
              "        buttonEl.style.display =\n",
              "          google.colab.kernel.accessAllowed ? 'block' : 'none';\n",
              "\n",
              "        async function convertToInteractive(key) {\n",
              "          const element = document.querySelector('#df-ac1c08cd-4d59-44a1-8340-d136dcabc89d');\n",
              "          const dataTable =\n",
              "            await google.colab.kernel.invokeFunction('convertToInteractive',\n",
              "                                                     [key], {});\n",
              "          if (!dataTable) return;\n",
              "\n",
              "          const docLinkHtml = 'Like what you see? Visit the ' +\n",
              "            '<a target=\"_blank\" href=https://colab.research.google.com/notebooks/data_table.ipynb>data table notebook</a>'\n",
              "            + ' to learn more about interactive tables.';\n",
              "          element.innerHTML = '';\n",
              "          dataTable['output_type'] = 'display_data';\n",
              "          await google.colab.output.renderOutput(dataTable, element);\n",
              "          const docLink = document.createElement('div');\n",
              "          docLink.innerHTML = docLinkHtml;\n",
              "          element.appendChild(docLink);\n",
              "        }\n",
              "      </script>\n",
              "    </div>\n",
              "  </div>\n",
              "  "
            ]
          },
          "metadata": {},
          "execution_count": 155
        }
      ]
    },
    {
      "cell_type": "markdown",
      "source": [
        "Remove the unnecessary column since the dataframe already has deafult indices."
      ],
      "metadata": {
        "id": "F36j9VVlSVNR"
      }
    },
    {
      "cell_type": "code",
      "source": [
        "dataset = dataset.drop('Unnamed: 0',axis='columns')"
      ],
      "metadata": {
        "id": "elzkZOiwR3Yq"
      },
      "execution_count": null,
      "outputs": []
    },
    {
      "cell_type": "code",
      "source": [
        "dataset.head()"
      ],
      "metadata": {
        "colab": {
          "base_uri": "https://localhost:8080/",
          "height": 206
        },
        "id": "i6M9OYaHSg9Y",
        "outputId": "cf8594ae-31c6-4688-d94b-8e388422fe43"
      },
      "execution_count": null,
      "outputs": [
        {
          "output_type": "execute_result",
          "data": {
            "text/plain": [
              "                                         Variable  Year      province  \\\n",
              "0  Annual Per Capita Poverty Threshold (in Pesos)  1991  1st District   \n",
              "1  Annual Per Capita Poverty Threshold (in Pesos)  2006  1st District   \n",
              "2  Annual Per Capita Poverty Threshold (in Pesos)  2009  1st District   \n",
              "3  Annual Per Capita Poverty Threshold (in Pesos)  2012  1st District   \n",
              "4  Annual Per Capita Poverty Threshold (in Pesos)  2015  1st District   \n",
              "\n",
              "       value adm_level region      unit  \n",
              "0        NaN  District    NCR  in Pesos  \n",
              "1    15,699   District    NCR  in Pesos  \n",
              "2    19,227   District    NCR  in Pesos  \n",
              "3    20,344   District    NCR  in Pesos  \n",
              "4    25,007   District    NCR  in Pesos  "
            ],
            "text/html": [
              "\n",
              "  <div id=\"df-25195eb7-e950-430b-ba81-2a81c35a876d\">\n",
              "    <div class=\"colab-df-container\">\n",
              "      <div>\n",
              "<style scoped>\n",
              "    .dataframe tbody tr th:only-of-type {\n",
              "        vertical-align: middle;\n",
              "    }\n",
              "\n",
              "    .dataframe tbody tr th {\n",
              "        vertical-align: top;\n",
              "    }\n",
              "\n",
              "    .dataframe thead th {\n",
              "        text-align: right;\n",
              "    }\n",
              "</style>\n",
              "<table border=\"1\" class=\"dataframe\">\n",
              "  <thead>\n",
              "    <tr style=\"text-align: right;\">\n",
              "      <th></th>\n",
              "      <th>Variable</th>\n",
              "      <th>Year</th>\n",
              "      <th>province</th>\n",
              "      <th>value</th>\n",
              "      <th>adm_level</th>\n",
              "      <th>region</th>\n",
              "      <th>unit</th>\n",
              "    </tr>\n",
              "  </thead>\n",
              "  <tbody>\n",
              "    <tr>\n",
              "      <th>0</th>\n",
              "      <td>Annual Per Capita Poverty Threshold (in Pesos)</td>\n",
              "      <td>1991</td>\n",
              "      <td>1st District</td>\n",
              "      <td>NaN</td>\n",
              "      <td>District</td>\n",
              "      <td>NCR</td>\n",
              "      <td>in Pesos</td>\n",
              "    </tr>\n",
              "    <tr>\n",
              "      <th>1</th>\n",
              "      <td>Annual Per Capita Poverty Threshold (in Pesos)</td>\n",
              "      <td>2006</td>\n",
              "      <td>1st District</td>\n",
              "      <td>15,699</td>\n",
              "      <td>District</td>\n",
              "      <td>NCR</td>\n",
              "      <td>in Pesos</td>\n",
              "    </tr>\n",
              "    <tr>\n",
              "      <th>2</th>\n",
              "      <td>Annual Per Capita Poverty Threshold (in Pesos)</td>\n",
              "      <td>2009</td>\n",
              "      <td>1st District</td>\n",
              "      <td>19,227</td>\n",
              "      <td>District</td>\n",
              "      <td>NCR</td>\n",
              "      <td>in Pesos</td>\n",
              "    </tr>\n",
              "    <tr>\n",
              "      <th>3</th>\n",
              "      <td>Annual Per Capita Poverty Threshold (in Pesos)</td>\n",
              "      <td>2012</td>\n",
              "      <td>1st District</td>\n",
              "      <td>20,344</td>\n",
              "      <td>District</td>\n",
              "      <td>NCR</td>\n",
              "      <td>in Pesos</td>\n",
              "    </tr>\n",
              "    <tr>\n",
              "      <th>4</th>\n",
              "      <td>Annual Per Capita Poverty Threshold (in Pesos)</td>\n",
              "      <td>2015</td>\n",
              "      <td>1st District</td>\n",
              "      <td>25,007</td>\n",
              "      <td>District</td>\n",
              "      <td>NCR</td>\n",
              "      <td>in Pesos</td>\n",
              "    </tr>\n",
              "  </tbody>\n",
              "</table>\n",
              "</div>\n",
              "      <button class=\"colab-df-convert\" onclick=\"convertToInteractive('df-25195eb7-e950-430b-ba81-2a81c35a876d')\"\n",
              "              title=\"Convert this dataframe to an interactive table.\"\n",
              "              style=\"display:none;\">\n",
              "        \n",
              "  <svg xmlns=\"http://www.w3.org/2000/svg\" height=\"24px\"viewBox=\"0 0 24 24\"\n",
              "       width=\"24px\">\n",
              "    <path d=\"M0 0h24v24H0V0z\" fill=\"none\"/>\n",
              "    <path d=\"M18.56 5.44l.94 2.06.94-2.06 2.06-.94-2.06-.94-.94-2.06-.94 2.06-2.06.94zm-11 1L8.5 8.5l.94-2.06 2.06-.94-2.06-.94L8.5 2.5l-.94 2.06-2.06.94zm10 10l.94 2.06.94-2.06 2.06-.94-2.06-.94-.94-2.06-.94 2.06-2.06.94z\"/><path d=\"M17.41 7.96l-1.37-1.37c-.4-.4-.92-.59-1.43-.59-.52 0-1.04.2-1.43.59L10.3 9.45l-7.72 7.72c-.78.78-.78 2.05 0 2.83L4 21.41c.39.39.9.59 1.41.59.51 0 1.02-.2 1.41-.59l7.78-7.78 2.81-2.81c.8-.78.8-2.07 0-2.86zM5.41 20L4 18.59l7.72-7.72 1.47 1.35L5.41 20z\"/>\n",
              "  </svg>\n",
              "      </button>\n",
              "      \n",
              "  <style>\n",
              "    .colab-df-container {\n",
              "      display:flex;\n",
              "      flex-wrap:wrap;\n",
              "      gap: 12px;\n",
              "    }\n",
              "\n",
              "    .colab-df-convert {\n",
              "      background-color: #E8F0FE;\n",
              "      border: none;\n",
              "      border-radius: 50%;\n",
              "      cursor: pointer;\n",
              "      display: none;\n",
              "      fill: #1967D2;\n",
              "      height: 32px;\n",
              "      padding: 0 0 0 0;\n",
              "      width: 32px;\n",
              "    }\n",
              "\n",
              "    .colab-df-convert:hover {\n",
              "      background-color: #E2EBFA;\n",
              "      box-shadow: 0px 1px 2px rgba(60, 64, 67, 0.3), 0px 1px 3px 1px rgba(60, 64, 67, 0.15);\n",
              "      fill: #174EA6;\n",
              "    }\n",
              "\n",
              "    [theme=dark] .colab-df-convert {\n",
              "      background-color: #3B4455;\n",
              "      fill: #D2E3FC;\n",
              "    }\n",
              "\n",
              "    [theme=dark] .colab-df-convert:hover {\n",
              "      background-color: #434B5C;\n",
              "      box-shadow: 0px 1px 3px 1px rgba(0, 0, 0, 0.15);\n",
              "      filter: drop-shadow(0px 1px 2px rgba(0, 0, 0, 0.3));\n",
              "      fill: #FFFFFF;\n",
              "    }\n",
              "  </style>\n",
              "\n",
              "      <script>\n",
              "        const buttonEl =\n",
              "          document.querySelector('#df-25195eb7-e950-430b-ba81-2a81c35a876d button.colab-df-convert');\n",
              "        buttonEl.style.display =\n",
              "          google.colab.kernel.accessAllowed ? 'block' : 'none';\n",
              "\n",
              "        async function convertToInteractive(key) {\n",
              "          const element = document.querySelector('#df-25195eb7-e950-430b-ba81-2a81c35a876d');\n",
              "          const dataTable =\n",
              "            await google.colab.kernel.invokeFunction('convertToInteractive',\n",
              "                                                     [key], {});\n",
              "          if (!dataTable) return;\n",
              "\n",
              "          const docLinkHtml = 'Like what you see? Visit the ' +\n",
              "            '<a target=\"_blank\" href=https://colab.research.google.com/notebooks/data_table.ipynb>data table notebook</a>'\n",
              "            + ' to learn more about interactive tables.';\n",
              "          element.innerHTML = '';\n",
              "          dataTable['output_type'] = 'display_data';\n",
              "          await google.colab.output.renderOutput(dataTable, element);\n",
              "          const docLink = document.createElement('div');\n",
              "          docLink.innerHTML = docLinkHtml;\n",
              "          element.appendChild(docLink);\n",
              "        }\n",
              "      </script>\n",
              "    </div>\n",
              "  </div>\n",
              "  "
            ]
          },
          "metadata": {},
          "execution_count": 157
        }
      ]
    },
    {
      "cell_type": "code",
      "source": [
        "dataset.info()"
      ],
      "metadata": {
        "colab": {
          "base_uri": "https://localhost:8080/"
        },
        "id": "iMxEZA5jSvmz",
        "outputId": "f9c954a7-5e06-433a-880d-b78deb88dbb3"
      },
      "execution_count": null,
      "outputs": [
        {
          "output_type": "stream",
          "name": "stdout",
          "text": [
            "<class 'pandas.core.frame.DataFrame'>\n",
            "RangeIndex: 3605 entries, 0 to 3604\n",
            "Data columns (total 7 columns):\n",
            " #   Column     Non-Null Count  Dtype \n",
            "---  ------     --------------  ----- \n",
            " 0   Variable   3605 non-null   object\n",
            " 1   Year       3605 non-null   int64 \n",
            " 2   province   3605 non-null   object\n",
            " 3   value      3010 non-null   object\n",
            " 4   adm_level  3360 non-null   object\n",
            " 5   region     3360 non-null   object\n",
            " 6   unit       3605 non-null   object\n",
            "dtypes: int64(1), object(6)\n",
            "memory usage: 197.3+ KB\n"
          ]
        }
      ]
    },
    {
      "cell_type": "markdown",
      "source": [
        "###Count null values in the dataset "
      ],
      "metadata": {
        "id": "GUFdJ9VUTOnT"
      }
    },
    {
      "cell_type": "code",
      "source": [
        "dataset.isna().sum()"
      ],
      "metadata": {
        "colab": {
          "base_uri": "https://localhost:8080/"
        },
        "id": "8vufr962iL9Q",
        "outputId": "d224edee-3313-4f76-c500-405bcfb185a9"
      },
      "execution_count": null,
      "outputs": [
        {
          "output_type": "execute_result",
          "data": {
            "text/plain": [
              "Variable       0\n",
              "Year           0\n",
              "province       0\n",
              "value        595\n",
              "adm_level    245\n",
              "region       245\n",
              "unit           0\n",
              "dtype: int64"
            ]
          },
          "metadata": {},
          "execution_count": 159
        }
      ]
    },
    {
      "cell_type": "markdown",
      "source": [
        "There are 595 null values for the *value* column, and 245 for the *adm_level* and *region* columns respectively. The value column has the largest number of null values so we will handle that first. "
      ],
      "metadata": {
        "id": "5Y08mm6wTS4O"
      }
    },
    {
      "cell_type": "markdown",
      "source": [
        "##Handling Missing Data "
      ],
      "metadata": {
        "id": "BfViK49OeBjf"
      }
    },
    {
      "cell_type": "markdown",
      "source": [
        "###Value Column "
      ],
      "metadata": {
        "id": "pAfQ8fzeiLpM"
      }
    },
    {
      "cell_type": "code",
      "source": [
        "df = dataset[dataset['value'].isnull()]\n",
        "df"
      ],
      "metadata": {
        "colab": {
          "base_uri": "https://localhost:8080/"
        },
        "id": "GfJOs-XueAKl",
        "outputId": "a3897131-b26d-448f-9b06-9936057a145a"
      },
      "execution_count": null,
      "outputs": [
        {
          "output_type": "execute_result",
          "data": {
            "text/plain": [
              "                                            Variable  Year           province  \\\n",
              "0     Annual Per Capita Poverty Threshold (in Pesos)  1991       1st District   \n",
              "5               Poverty Incidence among Families (%)  1991       1st District   \n",
              "10                        Magnitude of Poor Families  1991       1st District   \n",
              "15            Poverty Incidence among Population (%)  1991       1st District   \n",
              "20                      Magnitude of Poor Population  1991       1st District   \n",
              "...                                              ...   ...                ...   \n",
              "3580                      Magnitude of Poor Families  1991  Zamboanga del Sur   \n",
              "3585          Poverty Incidence among Population (%)  1991  Zamboanga del Sur   \n",
              "3590                    Magnitude of Poor Population  1991  Zamboanga del Sur   \n",
              "3595      Subsistence Incidence among Population (%)  1991  Zamboanga del Sur   \n",
              "3600        Magnitude of Subsistence Poor Population  1991  Zamboanga del Sur   \n",
              "\n",
              "     value adm_level     region        unit  \n",
              "0      NaN  District        NCR    in Pesos  \n",
              "5      NaN  District        NCR           %  \n",
              "10     NaN  District        NCR    families  \n",
              "15     NaN  District        NCR           %  \n",
              "20     NaN  District        NCR  population  \n",
              "...    ...       ...        ...         ...  \n",
              "3580   NaN  Province  Region IX    families  \n",
              "3585   NaN  Province  Region IX           %  \n",
              "3590   NaN  Province  Region IX  population  \n",
              "3595   NaN  Province  Region IX           %  \n",
              "3600   NaN  Province  Region IX  population  \n",
              "\n",
              "[595 rows x 7 columns]"
            ],
            "text/html": [
              "\n",
              "  <div id=\"df-e3988734-64ad-4e8a-b259-afc536bd9139\">\n",
              "    <div class=\"colab-df-container\">\n",
              "      <div>\n",
              "<style scoped>\n",
              "    .dataframe tbody tr th:only-of-type {\n",
              "        vertical-align: middle;\n",
              "    }\n",
              "\n",
              "    .dataframe tbody tr th {\n",
              "        vertical-align: top;\n",
              "    }\n",
              "\n",
              "    .dataframe thead th {\n",
              "        text-align: right;\n",
              "    }\n",
              "</style>\n",
              "<table border=\"1\" class=\"dataframe\">\n",
              "  <thead>\n",
              "    <tr style=\"text-align: right;\">\n",
              "      <th></th>\n",
              "      <th>Variable</th>\n",
              "      <th>Year</th>\n",
              "      <th>province</th>\n",
              "      <th>value</th>\n",
              "      <th>adm_level</th>\n",
              "      <th>region</th>\n",
              "      <th>unit</th>\n",
              "    </tr>\n",
              "  </thead>\n",
              "  <tbody>\n",
              "    <tr>\n",
              "      <th>0</th>\n",
              "      <td>Annual Per Capita Poverty Threshold (in Pesos)</td>\n",
              "      <td>1991</td>\n",
              "      <td>1st District</td>\n",
              "      <td>NaN</td>\n",
              "      <td>District</td>\n",
              "      <td>NCR</td>\n",
              "      <td>in Pesos</td>\n",
              "    </tr>\n",
              "    <tr>\n",
              "      <th>5</th>\n",
              "      <td>Poverty Incidence among Families (%)</td>\n",
              "      <td>1991</td>\n",
              "      <td>1st District</td>\n",
              "      <td>NaN</td>\n",
              "      <td>District</td>\n",
              "      <td>NCR</td>\n",
              "      <td>%</td>\n",
              "    </tr>\n",
              "    <tr>\n",
              "      <th>10</th>\n",
              "      <td>Magnitude of Poor Families</td>\n",
              "      <td>1991</td>\n",
              "      <td>1st District</td>\n",
              "      <td>NaN</td>\n",
              "      <td>District</td>\n",
              "      <td>NCR</td>\n",
              "      <td>families</td>\n",
              "    </tr>\n",
              "    <tr>\n",
              "      <th>15</th>\n",
              "      <td>Poverty Incidence among Population (%)</td>\n",
              "      <td>1991</td>\n",
              "      <td>1st District</td>\n",
              "      <td>NaN</td>\n",
              "      <td>District</td>\n",
              "      <td>NCR</td>\n",
              "      <td>%</td>\n",
              "    </tr>\n",
              "    <tr>\n",
              "      <th>20</th>\n",
              "      <td>Magnitude of Poor Population</td>\n",
              "      <td>1991</td>\n",
              "      <td>1st District</td>\n",
              "      <td>NaN</td>\n",
              "      <td>District</td>\n",
              "      <td>NCR</td>\n",
              "      <td>population</td>\n",
              "    </tr>\n",
              "    <tr>\n",
              "      <th>...</th>\n",
              "      <td>...</td>\n",
              "      <td>...</td>\n",
              "      <td>...</td>\n",
              "      <td>...</td>\n",
              "      <td>...</td>\n",
              "      <td>...</td>\n",
              "      <td>...</td>\n",
              "    </tr>\n",
              "    <tr>\n",
              "      <th>3580</th>\n",
              "      <td>Magnitude of Poor Families</td>\n",
              "      <td>1991</td>\n",
              "      <td>Zamboanga del Sur</td>\n",
              "      <td>NaN</td>\n",
              "      <td>Province</td>\n",
              "      <td>Region IX</td>\n",
              "      <td>families</td>\n",
              "    </tr>\n",
              "    <tr>\n",
              "      <th>3585</th>\n",
              "      <td>Poverty Incidence among Population (%)</td>\n",
              "      <td>1991</td>\n",
              "      <td>Zamboanga del Sur</td>\n",
              "      <td>NaN</td>\n",
              "      <td>Province</td>\n",
              "      <td>Region IX</td>\n",
              "      <td>%</td>\n",
              "    </tr>\n",
              "    <tr>\n",
              "      <th>3590</th>\n",
              "      <td>Magnitude of Poor Population</td>\n",
              "      <td>1991</td>\n",
              "      <td>Zamboanga del Sur</td>\n",
              "      <td>NaN</td>\n",
              "      <td>Province</td>\n",
              "      <td>Region IX</td>\n",
              "      <td>population</td>\n",
              "    </tr>\n",
              "    <tr>\n",
              "      <th>3595</th>\n",
              "      <td>Subsistence Incidence among Population (%)</td>\n",
              "      <td>1991</td>\n",
              "      <td>Zamboanga del Sur</td>\n",
              "      <td>NaN</td>\n",
              "      <td>Province</td>\n",
              "      <td>Region IX</td>\n",
              "      <td>%</td>\n",
              "    </tr>\n",
              "    <tr>\n",
              "      <th>3600</th>\n",
              "      <td>Magnitude of Subsistence Poor Population</td>\n",
              "      <td>1991</td>\n",
              "      <td>Zamboanga del Sur</td>\n",
              "      <td>NaN</td>\n",
              "      <td>Province</td>\n",
              "      <td>Region IX</td>\n",
              "      <td>population</td>\n",
              "    </tr>\n",
              "  </tbody>\n",
              "</table>\n",
              "<p>595 rows × 7 columns</p>\n",
              "</div>\n",
              "      <button class=\"colab-df-convert\" onclick=\"convertToInteractive('df-e3988734-64ad-4e8a-b259-afc536bd9139')\"\n",
              "              title=\"Convert this dataframe to an interactive table.\"\n",
              "              style=\"display:none;\">\n",
              "        \n",
              "  <svg xmlns=\"http://www.w3.org/2000/svg\" height=\"24px\"viewBox=\"0 0 24 24\"\n",
              "       width=\"24px\">\n",
              "    <path d=\"M0 0h24v24H0V0z\" fill=\"none\"/>\n",
              "    <path d=\"M18.56 5.44l.94 2.06.94-2.06 2.06-.94-2.06-.94-.94-2.06-.94 2.06-2.06.94zm-11 1L8.5 8.5l.94-2.06 2.06-.94-2.06-.94L8.5 2.5l-.94 2.06-2.06.94zm10 10l.94 2.06.94-2.06 2.06-.94-2.06-.94-.94-2.06-.94 2.06-2.06.94z\"/><path d=\"M17.41 7.96l-1.37-1.37c-.4-.4-.92-.59-1.43-.59-.52 0-1.04.2-1.43.59L10.3 9.45l-7.72 7.72c-.78.78-.78 2.05 0 2.83L4 21.41c.39.39.9.59 1.41.59.51 0 1.02-.2 1.41-.59l7.78-7.78 2.81-2.81c.8-.78.8-2.07 0-2.86zM5.41 20L4 18.59l7.72-7.72 1.47 1.35L5.41 20z\"/>\n",
              "  </svg>\n",
              "      </button>\n",
              "      \n",
              "  <style>\n",
              "    .colab-df-container {\n",
              "      display:flex;\n",
              "      flex-wrap:wrap;\n",
              "      gap: 12px;\n",
              "    }\n",
              "\n",
              "    .colab-df-convert {\n",
              "      background-color: #E8F0FE;\n",
              "      border: none;\n",
              "      border-radius: 50%;\n",
              "      cursor: pointer;\n",
              "      display: none;\n",
              "      fill: #1967D2;\n",
              "      height: 32px;\n",
              "      padding: 0 0 0 0;\n",
              "      width: 32px;\n",
              "    }\n",
              "\n",
              "    .colab-df-convert:hover {\n",
              "      background-color: #E2EBFA;\n",
              "      box-shadow: 0px 1px 2px rgba(60, 64, 67, 0.3), 0px 1px 3px 1px rgba(60, 64, 67, 0.15);\n",
              "      fill: #174EA6;\n",
              "    }\n",
              "\n",
              "    [theme=dark] .colab-df-convert {\n",
              "      background-color: #3B4455;\n",
              "      fill: #D2E3FC;\n",
              "    }\n",
              "\n",
              "    [theme=dark] .colab-df-convert:hover {\n",
              "      background-color: #434B5C;\n",
              "      box-shadow: 0px 1px 3px 1px rgba(0, 0, 0, 0.15);\n",
              "      filter: drop-shadow(0px 1px 2px rgba(0, 0, 0, 0.3));\n",
              "      fill: #FFFFFF;\n",
              "    }\n",
              "  </style>\n",
              "\n",
              "      <script>\n",
              "        const buttonEl =\n",
              "          document.querySelector('#df-e3988734-64ad-4e8a-b259-afc536bd9139 button.colab-df-convert');\n",
              "        buttonEl.style.display =\n",
              "          google.colab.kernel.accessAllowed ? 'block' : 'none';\n",
              "\n",
              "        async function convertToInteractive(key) {\n",
              "          const element = document.querySelector('#df-e3988734-64ad-4e8a-b259-afc536bd9139');\n",
              "          const dataTable =\n",
              "            await google.colab.kernel.invokeFunction('convertToInteractive',\n",
              "                                                     [key], {});\n",
              "          if (!dataTable) return;\n",
              "\n",
              "          const docLinkHtml = 'Like what you see? Visit the ' +\n",
              "            '<a target=\"_blank\" href=https://colab.research.google.com/notebooks/data_table.ipynb>data table notebook</a>'\n",
              "            + ' to learn more about interactive tables.';\n",
              "          element.innerHTML = '';\n",
              "          dataTable['output_type'] = 'display_data';\n",
              "          await google.colab.output.renderOutput(dataTable, element);\n",
              "          const docLink = document.createElement('div');\n",
              "          docLink.innerHTML = docLinkHtml;\n",
              "          element.appendChild(docLink);\n",
              "        }\n",
              "      </script>\n",
              "    </div>\n",
              "  </div>\n",
              "  "
            ]
          },
          "metadata": {},
          "execution_count": 10
        }
      ]
    },
    {
      "cell_type": "markdown",
      "source": [
        "Let us count the number of rows with null values in the value column by year. "
      ],
      "metadata": {
        "id": "86xcaFIBedfC"
      }
    },
    {
      "cell_type": "code",
      "source": [
        "df = dataset[dataset['value'].isnull()]\n",
        "df1 = df['Year'].value_counts()\n",
        "print(df1)"
      ],
      "metadata": {
        "colab": {
          "base_uri": "https://localhost:8080/"
        },
        "id": "PovyxUyrel2U",
        "outputId": "aef4e74b-d48e-4aac-a96d-5e0fdda79027"
      },
      "execution_count": null,
      "outputs": [
        {
          "output_type": "stream",
          "name": "stdout",
          "text": [
            "1991    595\n",
            "Name: Year, dtype: int64\n"
          ]
        }
      ]
    },
    {
      "cell_type": "code",
      "source": [
        "dataset['Year'].value_counts()"
      ],
      "metadata": {
        "colab": {
          "base_uri": "https://localhost:8080/"
        },
        "id": "QtQO2vighXBa",
        "outputId": "2674bdb0-2875-4328-fd06-cad716a22831"
      },
      "execution_count": null,
      "outputs": [
        {
          "output_type": "execute_result",
          "data": {
            "text/plain": [
              "1991    721\n",
              "2006    721\n",
              "2009    721\n",
              "2012    721\n",
              "2015    721\n",
              "Name: Year, dtype: int64"
            ]
          },
          "metadata": {},
          "execution_count": 12
        }
      ]
    },
    {
      "cell_type": "markdown",
      "source": [
        "Only the year 1991 has null values in the value column, accounting for 595 records. This leaves 126 rows  with complete data for year 1991. Hence, we can remove all rows for year 1991 since more than half of the rows have incomplete data. We can also assume that the observations are missing completely at random due to unavailability of digital storage during that year. \n"
      ],
      "metadata": {
        "id": "GcQD_gaFg9YJ"
      }
    },
    {
      "cell_type": "code",
      "source": [
        "dataset = dataset.drop(dataset.loc[dataset['Year']==1991].index)"
      ],
      "metadata": {
        "id": "O_qOCkX_o5sE"
      },
      "execution_count": null,
      "outputs": []
    },
    {
      "cell_type": "code",
      "source": [
        "dataset.shape"
      ],
      "metadata": {
        "colab": {
          "base_uri": "https://localhost:8080/"
        },
        "id": "RTGkQpByqCpk",
        "outputId": "1c2fa70a-035f-4e3f-b0b5-23aa6eb53a8b"
      },
      "execution_count": null,
      "outputs": [
        {
          "output_type": "execute_result",
          "data": {
            "text/plain": [
              "(2884, 7)"
            ]
          },
          "metadata": {},
          "execution_count": 14
        }
      ]
    },
    {
      "cell_type": "markdown",
      "source": [
        "The number of rows is down to 3010 from 3605 after deleting records from year 1991. \n",
        "\n",
        "\n",
        "\n"
      ],
      "metadata": {
        "id": "5vQFiWDBqHCi"
      }
    },
    {
      "cell_type": "markdown",
      "source": [
        "###Administrative level and region columns"
      ],
      "metadata": {
        "id": "uLmpAwHDq8fB"
      }
    },
    {
      "cell_type": "code",
      "source": [
        "dataset.isnull().sum()"
      ],
      "metadata": {
        "colab": {
          "base_uri": "https://localhost:8080/"
        },
        "id": "dQyrEb-PqjMG",
        "outputId": "18903c34-04e9-4d66-d293-cbed1d1f3c01"
      },
      "execution_count": null,
      "outputs": [
        {
          "output_type": "execute_result",
          "data": {
            "text/plain": [
              "Variable       0\n",
              "Year           0\n",
              "province       0\n",
              "value          0\n",
              "adm_level    196\n",
              "region       196\n",
              "unit           0\n",
              "dtype: int64"
            ]
          },
          "metadata": {},
          "execution_count": 15
        }
      ]
    },
    {
      "cell_type": "code",
      "source": [
        "dataset['adm_level'].unique()"
      ],
      "metadata": {
        "colab": {
          "base_uri": "https://localhost:8080/"
        },
        "id": "z2V78aszrIbC",
        "outputId": "e7902b30-e8cf-4a7e-cab8-944a2378a9a2"
      },
      "execution_count": null,
      "outputs": [
        {
          "output_type": "execute_result",
          "data": {
            "text/plain": [
              "array(['District', 'Region', 'Province', nan, 'Country'], dtype=object)"
            ]
          },
          "metadata": {},
          "execution_count": 16
        }
      ]
    },
    {
      "cell_type": "code",
      "source": [
        "dataset['region'].unique()"
      ],
      "metadata": {
        "colab": {
          "base_uri": "https://localhost:8080/"
        },
        "id": "hAX_M7G7kCzs",
        "outputId": "60842928-86b2-4e07-9d79-409c58196d61"
      },
      "execution_count": null,
      "outputs": [
        {
          "output_type": "execute_result",
          "data": {
            "text/plain": [
              "array(['NCR', 'ARMM', 'CAR', 'CARAGA', 'Region VI', 'Region V', nan,\n",
              "       'Region III', 'Region VI-A', 'Region VIII', 'Region VII',\n",
              "       'Region X', 'Region II', 'Region XI', 'Region I', 'Region IV-B',\n",
              "       'Region XII', 'Philippines', 'Region IX'], dtype=object)"
            ]
          },
          "metadata": {},
          "execution_count": 17
        }
      ]
    },
    {
      "cell_type": "code",
      "source": [
        "df = dataset[dataset['adm_level'].isnull()]\n",
        "df1 = df['province'].value_counts()\n",
        "print(df1)"
      ],
      "metadata": {
        "colab": {
          "base_uri": "https://localhost:8080/"
        },
        "id": "OaH5ZQmarB4H",
        "outputId": "385dc10d-32ed-4305-a4cb-49625b37036c"
      },
      "execution_count": null,
      "outputs": [
        {
          "output_type": "stream",
          "name": "stdout",
          "text": [
            "Aurora            28\n",
            "Batanes           28\n",
            "Camiguin          28\n",
            "Cotabato City,    28\n",
            "Guimaras,         28\n",
            "Isabela City,     28\n",
            "Siquijor,         28\n",
            "Name: province, dtype: int64\n"
          ]
        }
      ]
    },
    {
      "cell_type": "code",
      "source": [
        "df = dataset[dataset['region'].isnull()]\n",
        "df1 = df['province'].value_counts()\n",
        "print(df1)"
      ],
      "metadata": {
        "colab": {
          "base_uri": "https://localhost:8080/"
        },
        "id": "U2YJAJzttEIt",
        "outputId": "c1a22166-ad37-4942-af91-d62f8f71249f"
      },
      "execution_count": null,
      "outputs": [
        {
          "output_type": "stream",
          "name": "stdout",
          "text": [
            "Aurora            28\n",
            "Batanes           28\n",
            "Camiguin          28\n",
            "Cotabato City,    28\n",
            "Guimaras,         28\n",
            "Isabela City,     28\n",
            "Siquijor,         28\n",
            "Name: province, dtype: int64\n"
          ]
        }
      ]
    },
    {
      "cell_type": "markdown",
      "source": [
        "The places that have null adm_level values also have null region values. These places are the lone legislative districts of the province, hence, the adm_level will be Province and the region is their respective region. \n",
        "\n",
        "Fill in the null with these values: </br>\n",
        "Aurora\n",
        "*   adm_level: Province \n",
        "* region:  Region III\n",
        "\n",
        "Batanes\n",
        "* adm_level: Province \n",
        "* region: Region II \n",
        "\n",
        "Camiguin \n",
        "* adm_level: Province \n",
        "* region: Region X \n",
        "\n",
        "\n",
        "Guimaras   \n",
        "* adm_level: Province \n",
        "* region: Region VI \n",
        "\n",
        "Siquijor\n",
        "* adm_level: Province \n",
        "* region: Region VII  \n",
        "\n",
        "Since Cotabato and Isabela are cities, we will omit these places because we are only considering places at the province level for those who have null values in the 'adm_level' and 'region' columns. "
      ],
      "metadata": {
        "id": "ooId3kyfjgzH"
      }
    },
    {
      "cell_type": "code",
      "source": [
        "dataset = dataset.drop(dataset.loc[dataset['province'].isin(['Isabela City,', 'Cotabato City,'])].index)"
      ],
      "metadata": {
        "id": "_QF51cUI6ZRB"
      },
      "execution_count": null,
      "outputs": []
    },
    {
      "cell_type": "code",
      "source": [
        "#fill values for Aurora\n",
        "dataset.loc[dataset['province'] == 'Aurora','adm_level'] = \"Province\"\n",
        "dataset.loc[dataset['province'] == 'Aurora','region'] = \"Region III\"\n",
        "\n",
        "#fill values for Batanes\n",
        "dataset.loc[dataset['province'] == 'Batanes','adm_level'] = \"Province\"\n",
        "dataset.loc[dataset['province'] == 'Batanes','region'] = \"Region II\"\n",
        "\n",
        "#change values for Camiguin\n",
        "dataset.loc[dataset['province'] == 'Camiguin','adm_level'] = \"Province\"\n",
        "dataset.loc[dataset['province'] == 'Camiguin','region'] = \"Region X\"\n",
        "\n",
        "\n",
        "#change values for Guimaras\n",
        "dataset.loc[dataset['province'] == 'Guimaras,','adm_level'] = \"Province\"\n",
        "dataset.loc[dataset['province'] == 'Guimaras,','region'] = \"Region VI\"\n",
        "\n",
        "#change values for Siquijor\n",
        "dataset.loc[dataset['province'] == 'Siquijor,','adm_level'] = \"Province\"\n",
        "dataset.loc[dataset['province'] == 'Siquijor,','region'] = \"Region VII\"\n"
      ],
      "metadata": {
        "id": "pwsbhfJqqGYR"
      },
      "execution_count": null,
      "outputs": []
    },
    {
      "cell_type": "markdown",
      "source": [
        "Let us view rows for 'Aurora' to check if the null values are filled in. "
      ],
      "metadata": {
        "id": "mArdQiSdRoHH"
      }
    },
    {
      "cell_type": "code",
      "source": [
        "dataset[dataset['province'] == 'Aurora'].head()"
      ],
      "metadata": {
        "colab": {
          "base_uri": "https://localhost:8080/",
          "height": 206
        },
        "id": "9cZ1FVE61XsN",
        "outputId": "f2330a4e-8196-4cec-c70e-58a6608e3c21"
      },
      "execution_count": null,
      "outputs": [
        {
          "output_type": "execute_result",
          "data": {
            "text/plain": [
              "                                           Variable  Year province      value  \\\n",
              "421  Annual Per Capita Poverty Threshold (in Pesos)  2006   Aurora    11,883    \n",
              "422  Annual Per Capita Poverty Threshold (in Pesos)  2009   Aurora    14,979    \n",
              "423  Annual Per Capita Poverty Threshold (in Pesos)  2012   Aurora    18,466    \n",
              "424  Annual Per Capita Poverty Threshold (in Pesos)  2015   Aurora    20,458    \n",
              "426            Poverty Incidence among Families (%)  2006   Aurora       25.1   \n",
              "\n",
              "    adm_level      region      unit  \n",
              "421  Province  Region III  in Pesos  \n",
              "422  Province  Region III  in Pesos  \n",
              "423  Province  Region III  in Pesos  \n",
              "424  Province  Region III  in Pesos  \n",
              "426  Province  Region III         %  "
            ],
            "text/html": [
              "\n",
              "  <div id=\"df-1e447c69-1fc9-4a6e-9941-2d8ce47b7b7b\">\n",
              "    <div class=\"colab-df-container\">\n",
              "      <div>\n",
              "<style scoped>\n",
              "    .dataframe tbody tr th:only-of-type {\n",
              "        vertical-align: middle;\n",
              "    }\n",
              "\n",
              "    .dataframe tbody tr th {\n",
              "        vertical-align: top;\n",
              "    }\n",
              "\n",
              "    .dataframe thead th {\n",
              "        text-align: right;\n",
              "    }\n",
              "</style>\n",
              "<table border=\"1\" class=\"dataframe\">\n",
              "  <thead>\n",
              "    <tr style=\"text-align: right;\">\n",
              "      <th></th>\n",
              "      <th>Variable</th>\n",
              "      <th>Year</th>\n",
              "      <th>province</th>\n",
              "      <th>value</th>\n",
              "      <th>adm_level</th>\n",
              "      <th>region</th>\n",
              "      <th>unit</th>\n",
              "    </tr>\n",
              "  </thead>\n",
              "  <tbody>\n",
              "    <tr>\n",
              "      <th>421</th>\n",
              "      <td>Annual Per Capita Poverty Threshold (in Pesos)</td>\n",
              "      <td>2006</td>\n",
              "      <td>Aurora</td>\n",
              "      <td>11,883</td>\n",
              "      <td>Province</td>\n",
              "      <td>Region III</td>\n",
              "      <td>in Pesos</td>\n",
              "    </tr>\n",
              "    <tr>\n",
              "      <th>422</th>\n",
              "      <td>Annual Per Capita Poverty Threshold (in Pesos)</td>\n",
              "      <td>2009</td>\n",
              "      <td>Aurora</td>\n",
              "      <td>14,979</td>\n",
              "      <td>Province</td>\n",
              "      <td>Region III</td>\n",
              "      <td>in Pesos</td>\n",
              "    </tr>\n",
              "    <tr>\n",
              "      <th>423</th>\n",
              "      <td>Annual Per Capita Poverty Threshold (in Pesos)</td>\n",
              "      <td>2012</td>\n",
              "      <td>Aurora</td>\n",
              "      <td>18,466</td>\n",
              "      <td>Province</td>\n",
              "      <td>Region III</td>\n",
              "      <td>in Pesos</td>\n",
              "    </tr>\n",
              "    <tr>\n",
              "      <th>424</th>\n",
              "      <td>Annual Per Capita Poverty Threshold (in Pesos)</td>\n",
              "      <td>2015</td>\n",
              "      <td>Aurora</td>\n",
              "      <td>20,458</td>\n",
              "      <td>Province</td>\n",
              "      <td>Region III</td>\n",
              "      <td>in Pesos</td>\n",
              "    </tr>\n",
              "    <tr>\n",
              "      <th>426</th>\n",
              "      <td>Poverty Incidence among Families (%)</td>\n",
              "      <td>2006</td>\n",
              "      <td>Aurora</td>\n",
              "      <td>25.1</td>\n",
              "      <td>Province</td>\n",
              "      <td>Region III</td>\n",
              "      <td>%</td>\n",
              "    </tr>\n",
              "  </tbody>\n",
              "</table>\n",
              "</div>\n",
              "      <button class=\"colab-df-convert\" onclick=\"convertToInteractive('df-1e447c69-1fc9-4a6e-9941-2d8ce47b7b7b')\"\n",
              "              title=\"Convert this dataframe to an interactive table.\"\n",
              "              style=\"display:none;\">\n",
              "        \n",
              "  <svg xmlns=\"http://www.w3.org/2000/svg\" height=\"24px\"viewBox=\"0 0 24 24\"\n",
              "       width=\"24px\">\n",
              "    <path d=\"M0 0h24v24H0V0z\" fill=\"none\"/>\n",
              "    <path d=\"M18.56 5.44l.94 2.06.94-2.06 2.06-.94-2.06-.94-.94-2.06-.94 2.06-2.06.94zm-11 1L8.5 8.5l.94-2.06 2.06-.94-2.06-.94L8.5 2.5l-.94 2.06-2.06.94zm10 10l.94 2.06.94-2.06 2.06-.94-2.06-.94-.94-2.06-.94 2.06-2.06.94z\"/><path d=\"M17.41 7.96l-1.37-1.37c-.4-.4-.92-.59-1.43-.59-.52 0-1.04.2-1.43.59L10.3 9.45l-7.72 7.72c-.78.78-.78 2.05 0 2.83L4 21.41c.39.39.9.59 1.41.59.51 0 1.02-.2 1.41-.59l7.78-7.78 2.81-2.81c.8-.78.8-2.07 0-2.86zM5.41 20L4 18.59l7.72-7.72 1.47 1.35L5.41 20z\"/>\n",
              "  </svg>\n",
              "      </button>\n",
              "      \n",
              "  <style>\n",
              "    .colab-df-container {\n",
              "      display:flex;\n",
              "      flex-wrap:wrap;\n",
              "      gap: 12px;\n",
              "    }\n",
              "\n",
              "    .colab-df-convert {\n",
              "      background-color: #E8F0FE;\n",
              "      border: none;\n",
              "      border-radius: 50%;\n",
              "      cursor: pointer;\n",
              "      display: none;\n",
              "      fill: #1967D2;\n",
              "      height: 32px;\n",
              "      padding: 0 0 0 0;\n",
              "      width: 32px;\n",
              "    }\n",
              "\n",
              "    .colab-df-convert:hover {\n",
              "      background-color: #E2EBFA;\n",
              "      box-shadow: 0px 1px 2px rgba(60, 64, 67, 0.3), 0px 1px 3px 1px rgba(60, 64, 67, 0.15);\n",
              "      fill: #174EA6;\n",
              "    }\n",
              "\n",
              "    [theme=dark] .colab-df-convert {\n",
              "      background-color: #3B4455;\n",
              "      fill: #D2E3FC;\n",
              "    }\n",
              "\n",
              "    [theme=dark] .colab-df-convert:hover {\n",
              "      background-color: #434B5C;\n",
              "      box-shadow: 0px 1px 3px 1px rgba(0, 0, 0, 0.15);\n",
              "      filter: drop-shadow(0px 1px 2px rgba(0, 0, 0, 0.3));\n",
              "      fill: #FFFFFF;\n",
              "    }\n",
              "  </style>\n",
              "\n",
              "      <script>\n",
              "        const buttonEl =\n",
              "          document.querySelector('#df-1e447c69-1fc9-4a6e-9941-2d8ce47b7b7b button.colab-df-convert');\n",
              "        buttonEl.style.display =\n",
              "          google.colab.kernel.accessAllowed ? 'block' : 'none';\n",
              "\n",
              "        async function convertToInteractive(key) {\n",
              "          const element = document.querySelector('#df-1e447c69-1fc9-4a6e-9941-2d8ce47b7b7b');\n",
              "          const dataTable =\n",
              "            await google.colab.kernel.invokeFunction('convertToInteractive',\n",
              "                                                     [key], {});\n",
              "          if (!dataTable) return;\n",
              "\n",
              "          const docLinkHtml = 'Like what you see? Visit the ' +\n",
              "            '<a target=\"_blank\" href=https://colab.research.google.com/notebooks/data_table.ipynb>data table notebook</a>'\n",
              "            + ' to learn more about interactive tables.';\n",
              "          element.innerHTML = '';\n",
              "          dataTable['output_type'] = 'display_data';\n",
              "          await google.colab.output.renderOutput(dataTable, element);\n",
              "          const docLink = document.createElement('div');\n",
              "          docLink.innerHTML = docLinkHtml;\n",
              "          element.appendChild(docLink);\n",
              "        }\n",
              "      </script>\n",
              "    </div>\n",
              "  </div>\n",
              "  "
            ]
          },
          "metadata": {},
          "execution_count": 22
        }
      ]
    },
    {
      "cell_type": "markdown",
      "source": [
        "Checking if there are still remaining null values in the dataset"
      ],
      "metadata": {
        "id": "pxqOAdKF3Y7I"
      }
    },
    {
      "cell_type": "code",
      "source": [
        "dataset['adm_level'].unique()"
      ],
      "metadata": {
        "colab": {
          "base_uri": "https://localhost:8080/"
        },
        "id": "UMis5ACW4ImO",
        "outputId": "7b21e8cb-dc9c-4d62-c77f-4ded7d0cc315"
      },
      "execution_count": null,
      "outputs": [
        {
          "output_type": "execute_result",
          "data": {
            "text/plain": [
              "array(['District', 'Region', 'Province', 'Country'], dtype=object)"
            ]
          },
          "metadata": {},
          "execution_count": 23
        }
      ]
    },
    {
      "cell_type": "code",
      "source": [
        "dataset.isnull().sum()"
      ],
      "metadata": {
        "colab": {
          "base_uri": "https://localhost:8080/"
        },
        "id": "Kp-8uMjr3Ak9",
        "outputId": "8929dbbb-d6ca-49d4-b123-31a3c8e20834"
      },
      "execution_count": null,
      "outputs": [
        {
          "output_type": "execute_result",
          "data": {
            "text/plain": [
              "Variable     0\n",
              "Year         0\n",
              "province     0\n",
              "value        0\n",
              "adm_level    0\n",
              "region       0\n",
              "unit         0\n",
              "dtype: int64"
            ]
          },
          "metadata": {},
          "execution_count": 24
        }
      ]
    },
    {
      "cell_type": "markdown",
      "source": [
        "###Final dataset "
      ],
      "metadata": {
        "id": "ZHJwLT7H_NNs"
      }
    },
    {
      "cell_type": "code",
      "source": [
        "dataset.shape"
      ],
      "metadata": {
        "colab": {
          "base_uri": "https://localhost:8080/"
        },
        "id": "wWC7aYmC_Qpb",
        "outputId": "1cc18b33-454b-4246-e412-5103c66ca99b"
      },
      "execution_count": null,
      "outputs": [
        {
          "output_type": "execute_result",
          "data": {
            "text/plain": [
              "(2828, 7)"
            ]
          },
          "metadata": {},
          "execution_count": 25
        }
      ]
    },
    {
      "cell_type": "markdown",
      "source": [
        "After handling missing values, the final dataset has 2892 rows and 7 columns. "
      ],
      "metadata": {
        "id": "_0S2oRoq_Yu5"
      }
    },
    {
      "cell_type": "markdown",
      "source": [
        "###Save dataframe back to csv"
      ],
      "metadata": {
        "id": "mLHWPOgEazIy"
      }
    },
    {
      "cell_type": "code",
      "source": [
        "dataset.to_csv(directory+'PH_poverty_data.csv')#to be used for PowerBI dashboarding"
      ],
      "metadata": {
        "id": "ebV7nfJ0ayJP"
      },
      "execution_count": null,
      "outputs": []
    },
    {
      "cell_type": "markdown",
      "source": [
        "## Analysis of Poor and Subsistence Poor\n"
      ],
      "metadata": {
        "id": "3pyMSUZNsMtt"
      }
    },
    {
      "cell_type": "markdown",
      "source": [
        "Our dataframe must have the values of magnitude of poor population and  magnitude of subsistence poor population variables in separate columns for the numerical analaysis. To do this, we must filter out rows containing each variable type and merge them on their common columns. "
      ],
      "metadata": {
        "id": "ZVTewWTr-adN"
      }
    },
    {
      "cell_type": "markdown",
      "source": [
        "####Retrieve rows for `Magnitude of Poor Population` variable"
      ],
      "metadata": {
        "id": "iUxeifI6A9gz"
      }
    },
    {
      "cell_type": "code",
      "source": [
        "poorPop = dataset[dataset['Variable'] == 'Magnitude of Poor Population']"
      ],
      "metadata": {
        "id": "Gr0nkN4xs5PA"
      },
      "execution_count": null,
      "outputs": []
    },
    {
      "cell_type": "code",
      "source": [
        "poorPop.head()"
      ],
      "metadata": {
        "colab": {
          "base_uri": "https://localhost:8080/"
        },
        "id": "KmxubGx63TQf",
        "outputId": "1b1d8ac2-eb88-4fd8-8120-8e29eb6cfae7"
      },
      "execution_count": null,
      "outputs": [
        {
          "output_type": "execute_result",
          "data": {
            "text/plain": [
              "                        Variable  Year      province       value adm_level  \\\n",
              "21  Magnitude of Poor Population  2006  1st District     79,109   District   \n",
              "22  Magnitude of Poor Population  2009  1st District     84,914   District   \n",
              "23  Magnitude of Poor Population  2012  1st District    102,591   District   \n",
              "24  Magnitude of Poor Population  2015  1st District     82,007   District   \n",
              "56  Magnitude of Poor Population  2006  2nd District    183,449   District   \n",
              "\n",
              "   region        unit  \n",
              "21    NCR  population  \n",
              "22    NCR  population  \n",
              "23    NCR  population  \n",
              "24    NCR  population  \n",
              "56    NCR  population  "
            ],
            "text/html": [
              "\n",
              "  <div id=\"df-3b2f2d8d-5ce0-45d1-b5aa-e8e991ab94a0\">\n",
              "    <div class=\"colab-df-container\">\n",
              "      <div>\n",
              "<style scoped>\n",
              "    .dataframe tbody tr th:only-of-type {\n",
              "        vertical-align: middle;\n",
              "    }\n",
              "\n",
              "    .dataframe tbody tr th {\n",
              "        vertical-align: top;\n",
              "    }\n",
              "\n",
              "    .dataframe thead th {\n",
              "        text-align: right;\n",
              "    }\n",
              "</style>\n",
              "<table border=\"1\" class=\"dataframe\">\n",
              "  <thead>\n",
              "    <tr style=\"text-align: right;\">\n",
              "      <th></th>\n",
              "      <th>Variable</th>\n",
              "      <th>Year</th>\n",
              "      <th>province</th>\n",
              "      <th>value</th>\n",
              "      <th>adm_level</th>\n",
              "      <th>region</th>\n",
              "      <th>unit</th>\n",
              "    </tr>\n",
              "  </thead>\n",
              "  <tbody>\n",
              "    <tr>\n",
              "      <th>21</th>\n",
              "      <td>Magnitude of Poor Population</td>\n",
              "      <td>2006</td>\n",
              "      <td>1st District</td>\n",
              "      <td>79,109</td>\n",
              "      <td>District</td>\n",
              "      <td>NCR</td>\n",
              "      <td>population</td>\n",
              "    </tr>\n",
              "    <tr>\n",
              "      <th>22</th>\n",
              "      <td>Magnitude of Poor Population</td>\n",
              "      <td>2009</td>\n",
              "      <td>1st District</td>\n",
              "      <td>84,914</td>\n",
              "      <td>District</td>\n",
              "      <td>NCR</td>\n",
              "      <td>population</td>\n",
              "    </tr>\n",
              "    <tr>\n",
              "      <th>23</th>\n",
              "      <td>Magnitude of Poor Population</td>\n",
              "      <td>2012</td>\n",
              "      <td>1st District</td>\n",
              "      <td>102,591</td>\n",
              "      <td>District</td>\n",
              "      <td>NCR</td>\n",
              "      <td>population</td>\n",
              "    </tr>\n",
              "    <tr>\n",
              "      <th>24</th>\n",
              "      <td>Magnitude of Poor Population</td>\n",
              "      <td>2015</td>\n",
              "      <td>1st District</td>\n",
              "      <td>82,007</td>\n",
              "      <td>District</td>\n",
              "      <td>NCR</td>\n",
              "      <td>population</td>\n",
              "    </tr>\n",
              "    <tr>\n",
              "      <th>56</th>\n",
              "      <td>Magnitude of Poor Population</td>\n",
              "      <td>2006</td>\n",
              "      <td>2nd District</td>\n",
              "      <td>183,449</td>\n",
              "      <td>District</td>\n",
              "      <td>NCR</td>\n",
              "      <td>population</td>\n",
              "    </tr>\n",
              "  </tbody>\n",
              "</table>\n",
              "</div>\n",
              "      <button class=\"colab-df-convert\" onclick=\"convertToInteractive('df-3b2f2d8d-5ce0-45d1-b5aa-e8e991ab94a0')\"\n",
              "              title=\"Convert this dataframe to an interactive table.\"\n",
              "              style=\"display:none;\">\n",
              "        \n",
              "  <svg xmlns=\"http://www.w3.org/2000/svg\" height=\"24px\"viewBox=\"0 0 24 24\"\n",
              "       width=\"24px\">\n",
              "    <path d=\"M0 0h24v24H0V0z\" fill=\"none\"/>\n",
              "    <path d=\"M18.56 5.44l.94 2.06.94-2.06 2.06-.94-2.06-.94-.94-2.06-.94 2.06-2.06.94zm-11 1L8.5 8.5l.94-2.06 2.06-.94-2.06-.94L8.5 2.5l-.94 2.06-2.06.94zm10 10l.94 2.06.94-2.06 2.06-.94-2.06-.94-.94-2.06-.94 2.06-2.06.94z\"/><path d=\"M17.41 7.96l-1.37-1.37c-.4-.4-.92-.59-1.43-.59-.52 0-1.04.2-1.43.59L10.3 9.45l-7.72 7.72c-.78.78-.78 2.05 0 2.83L4 21.41c.39.39.9.59 1.41.59.51 0 1.02-.2 1.41-.59l7.78-7.78 2.81-2.81c.8-.78.8-2.07 0-2.86zM5.41 20L4 18.59l7.72-7.72 1.47 1.35L5.41 20z\"/>\n",
              "  </svg>\n",
              "      </button>\n",
              "      \n",
              "  <style>\n",
              "    .colab-df-container {\n",
              "      display:flex;\n",
              "      flex-wrap:wrap;\n",
              "      gap: 12px;\n",
              "    }\n",
              "\n",
              "    .colab-df-convert {\n",
              "      background-color: #E8F0FE;\n",
              "      border: none;\n",
              "      border-radius: 50%;\n",
              "      cursor: pointer;\n",
              "      display: none;\n",
              "      fill: #1967D2;\n",
              "      height: 32px;\n",
              "      padding: 0 0 0 0;\n",
              "      width: 32px;\n",
              "    }\n",
              "\n",
              "    .colab-df-convert:hover {\n",
              "      background-color: #E2EBFA;\n",
              "      box-shadow: 0px 1px 2px rgba(60, 64, 67, 0.3), 0px 1px 3px 1px rgba(60, 64, 67, 0.15);\n",
              "      fill: #174EA6;\n",
              "    }\n",
              "\n",
              "    [theme=dark] .colab-df-convert {\n",
              "      background-color: #3B4455;\n",
              "      fill: #D2E3FC;\n",
              "    }\n",
              "\n",
              "    [theme=dark] .colab-df-convert:hover {\n",
              "      background-color: #434B5C;\n",
              "      box-shadow: 0px 1px 3px 1px rgba(0, 0, 0, 0.15);\n",
              "      filter: drop-shadow(0px 1px 2px rgba(0, 0, 0, 0.3));\n",
              "      fill: #FFFFFF;\n",
              "    }\n",
              "  </style>\n",
              "\n",
              "      <script>\n",
              "        const buttonEl =\n",
              "          document.querySelector('#df-3b2f2d8d-5ce0-45d1-b5aa-e8e991ab94a0 button.colab-df-convert');\n",
              "        buttonEl.style.display =\n",
              "          google.colab.kernel.accessAllowed ? 'block' : 'none';\n",
              "\n",
              "        async function convertToInteractive(key) {\n",
              "          const element = document.querySelector('#df-3b2f2d8d-5ce0-45d1-b5aa-e8e991ab94a0');\n",
              "          const dataTable =\n",
              "            await google.colab.kernel.invokeFunction('convertToInteractive',\n",
              "                                                     [key], {});\n",
              "          if (!dataTable) return;\n",
              "\n",
              "          const docLinkHtml = 'Like what you see? Visit the ' +\n",
              "            '<a target=\"_blank\" href=https://colab.research.google.com/notebooks/data_table.ipynb>data table notebook</a>'\n",
              "            + ' to learn more about interactive tables.';\n",
              "          element.innerHTML = '';\n",
              "          dataTable['output_type'] = 'display_data';\n",
              "          await google.colab.output.renderOutput(dataTable, element);\n",
              "          const docLink = document.createElement('div');\n",
              "          docLink.innerHTML = docLinkHtml;\n",
              "          element.appendChild(docLink);\n",
              "        }\n",
              "      </script>\n",
              "    </div>\n",
              "  </div>\n",
              "  "
            ]
          },
          "metadata": {},
          "execution_count": 26
        }
      ]
    },
    {
      "cell_type": "markdown",
      "source": [
        "####Retrieve rows for `Magnitude of Subsistence Poor Population` variable"
      ],
      "metadata": {
        "id": "LwNtdaRQCGaX"
      }
    },
    {
      "cell_type": "code",
      "source": [
        "subs_poorPop = dataset[dataset['Variable'] == 'Magnitude of Subsistence Poor Population']"
      ],
      "metadata": {
        "id": "7Yq00MEm25Zo"
      },
      "execution_count": null,
      "outputs": []
    },
    {
      "cell_type": "code",
      "source": [
        "subs_poorPop.head()"
      ],
      "metadata": {
        "colab": {
          "base_uri": "https://localhost:8080/"
        },
        "id": "3DSRZnzK3x3T",
        "outputId": "bee5401f-daf9-4668-e86a-dc1599445d15"
      },
      "execution_count": null,
      "outputs": [
        {
          "output_type": "execute_result",
          "data": {
            "text/plain": [
              "                                    Variable  Year      province      value  \\\n",
              "31  Magnitude of Subsistence Poor Population  2006  1st District    22,528    \n",
              "32  Magnitude of Subsistence Poor Population  2009  1st District          0   \n",
              "33  Magnitude of Subsistence Poor Population  2012  1st District     8,902    \n",
              "34  Magnitude of Subsistence Poor Population  2015  1st District    24,855    \n",
              "66  Magnitude of Subsistence Poor Population  2006  2nd District    13,020    \n",
              "\n",
              "   adm_level region        unit  \n",
              "31  District    NCR  population  \n",
              "32  District    NCR  population  \n",
              "33  District    NCR  population  \n",
              "34  District    NCR  population  \n",
              "66  District    NCR  population  "
            ],
            "text/html": [
              "\n",
              "  <div id=\"df-ecb8ed0f-dd33-4bec-983f-514ea6e375ae\">\n",
              "    <div class=\"colab-df-container\">\n",
              "      <div>\n",
              "<style scoped>\n",
              "    .dataframe tbody tr th:only-of-type {\n",
              "        vertical-align: middle;\n",
              "    }\n",
              "\n",
              "    .dataframe tbody tr th {\n",
              "        vertical-align: top;\n",
              "    }\n",
              "\n",
              "    .dataframe thead th {\n",
              "        text-align: right;\n",
              "    }\n",
              "</style>\n",
              "<table border=\"1\" class=\"dataframe\">\n",
              "  <thead>\n",
              "    <tr style=\"text-align: right;\">\n",
              "      <th></th>\n",
              "      <th>Variable</th>\n",
              "      <th>Year</th>\n",
              "      <th>province</th>\n",
              "      <th>value</th>\n",
              "      <th>adm_level</th>\n",
              "      <th>region</th>\n",
              "      <th>unit</th>\n",
              "    </tr>\n",
              "  </thead>\n",
              "  <tbody>\n",
              "    <tr>\n",
              "      <th>31</th>\n",
              "      <td>Magnitude of Subsistence Poor Population</td>\n",
              "      <td>2006</td>\n",
              "      <td>1st District</td>\n",
              "      <td>22,528</td>\n",
              "      <td>District</td>\n",
              "      <td>NCR</td>\n",
              "      <td>population</td>\n",
              "    </tr>\n",
              "    <tr>\n",
              "      <th>32</th>\n",
              "      <td>Magnitude of Subsistence Poor Population</td>\n",
              "      <td>2009</td>\n",
              "      <td>1st District</td>\n",
              "      <td>0</td>\n",
              "      <td>District</td>\n",
              "      <td>NCR</td>\n",
              "      <td>population</td>\n",
              "    </tr>\n",
              "    <tr>\n",
              "      <th>33</th>\n",
              "      <td>Magnitude of Subsistence Poor Population</td>\n",
              "      <td>2012</td>\n",
              "      <td>1st District</td>\n",
              "      <td>8,902</td>\n",
              "      <td>District</td>\n",
              "      <td>NCR</td>\n",
              "      <td>population</td>\n",
              "    </tr>\n",
              "    <tr>\n",
              "      <th>34</th>\n",
              "      <td>Magnitude of Subsistence Poor Population</td>\n",
              "      <td>2015</td>\n",
              "      <td>1st District</td>\n",
              "      <td>24,855</td>\n",
              "      <td>District</td>\n",
              "      <td>NCR</td>\n",
              "      <td>population</td>\n",
              "    </tr>\n",
              "    <tr>\n",
              "      <th>66</th>\n",
              "      <td>Magnitude of Subsistence Poor Population</td>\n",
              "      <td>2006</td>\n",
              "      <td>2nd District</td>\n",
              "      <td>13,020</td>\n",
              "      <td>District</td>\n",
              "      <td>NCR</td>\n",
              "      <td>population</td>\n",
              "    </tr>\n",
              "  </tbody>\n",
              "</table>\n",
              "</div>\n",
              "      <button class=\"colab-df-convert\" onclick=\"convertToInteractive('df-ecb8ed0f-dd33-4bec-983f-514ea6e375ae')\"\n",
              "              title=\"Convert this dataframe to an interactive table.\"\n",
              "              style=\"display:none;\">\n",
              "        \n",
              "  <svg xmlns=\"http://www.w3.org/2000/svg\" height=\"24px\"viewBox=\"0 0 24 24\"\n",
              "       width=\"24px\">\n",
              "    <path d=\"M0 0h24v24H0V0z\" fill=\"none\"/>\n",
              "    <path d=\"M18.56 5.44l.94 2.06.94-2.06 2.06-.94-2.06-.94-.94-2.06-.94 2.06-2.06.94zm-11 1L8.5 8.5l.94-2.06 2.06-.94-2.06-.94L8.5 2.5l-.94 2.06-2.06.94zm10 10l.94 2.06.94-2.06 2.06-.94-2.06-.94-.94-2.06-.94 2.06-2.06.94z\"/><path d=\"M17.41 7.96l-1.37-1.37c-.4-.4-.92-.59-1.43-.59-.52 0-1.04.2-1.43.59L10.3 9.45l-7.72 7.72c-.78.78-.78 2.05 0 2.83L4 21.41c.39.39.9.59 1.41.59.51 0 1.02-.2 1.41-.59l7.78-7.78 2.81-2.81c.8-.78.8-2.07 0-2.86zM5.41 20L4 18.59l7.72-7.72 1.47 1.35L5.41 20z\"/>\n",
              "  </svg>\n",
              "      </button>\n",
              "      \n",
              "  <style>\n",
              "    .colab-df-container {\n",
              "      display:flex;\n",
              "      flex-wrap:wrap;\n",
              "      gap: 12px;\n",
              "    }\n",
              "\n",
              "    .colab-df-convert {\n",
              "      background-color: #E8F0FE;\n",
              "      border: none;\n",
              "      border-radius: 50%;\n",
              "      cursor: pointer;\n",
              "      display: none;\n",
              "      fill: #1967D2;\n",
              "      height: 32px;\n",
              "      padding: 0 0 0 0;\n",
              "      width: 32px;\n",
              "    }\n",
              "\n",
              "    .colab-df-convert:hover {\n",
              "      background-color: #E2EBFA;\n",
              "      box-shadow: 0px 1px 2px rgba(60, 64, 67, 0.3), 0px 1px 3px 1px rgba(60, 64, 67, 0.15);\n",
              "      fill: #174EA6;\n",
              "    }\n",
              "\n",
              "    [theme=dark] .colab-df-convert {\n",
              "      background-color: #3B4455;\n",
              "      fill: #D2E3FC;\n",
              "    }\n",
              "\n",
              "    [theme=dark] .colab-df-convert:hover {\n",
              "      background-color: #434B5C;\n",
              "      box-shadow: 0px 1px 3px 1px rgba(0, 0, 0, 0.15);\n",
              "      filter: drop-shadow(0px 1px 2px rgba(0, 0, 0, 0.3));\n",
              "      fill: #FFFFFF;\n",
              "    }\n",
              "  </style>\n",
              "\n",
              "      <script>\n",
              "        const buttonEl =\n",
              "          document.querySelector('#df-ecb8ed0f-dd33-4bec-983f-514ea6e375ae button.colab-df-convert');\n",
              "        buttonEl.style.display =\n",
              "          google.colab.kernel.accessAllowed ? 'block' : 'none';\n",
              "\n",
              "        async function convertToInteractive(key) {\n",
              "          const element = document.querySelector('#df-ecb8ed0f-dd33-4bec-983f-514ea6e375ae');\n",
              "          const dataTable =\n",
              "            await google.colab.kernel.invokeFunction('convertToInteractive',\n",
              "                                                     [key], {});\n",
              "          if (!dataTable) return;\n",
              "\n",
              "          const docLinkHtml = 'Like what you see? Visit the ' +\n",
              "            '<a target=\"_blank\" href=https://colab.research.google.com/notebooks/data_table.ipynb>data table notebook</a>'\n",
              "            + ' to learn more about interactive tables.';\n",
              "          element.innerHTML = '';\n",
              "          dataTable['output_type'] = 'display_data';\n",
              "          await google.colab.output.renderOutput(dataTable, element);\n",
              "          const docLink = document.createElement('div');\n",
              "          docLink.innerHTML = docLinkHtml;\n",
              "          element.appendChild(docLink);\n",
              "        }\n",
              "      </script>\n",
              "    </div>\n",
              "  </div>\n",
              "  "
            ]
          },
          "metadata": {},
          "execution_count": 28
        }
      ]
    },
    {
      "cell_type": "markdown",
      "source": [
        "###Merge the two dataframes"
      ],
      "metadata": {
        "id": "gW_LfGc4-XJV"
      }
    },
    {
      "cell_type": "markdown",
      "source": [
        "The two dataframes are joined using the `merge` function. The dataframes will be merged on Year,province,adm_level,region,unit since this are the common columns.    "
      ],
      "metadata": {
        "id": "wTTTiPlL-3up"
      }
    },
    {
      "cell_type": "code",
      "source": [
        "magnitude = pd.merge(poorPop, subs_poorPop, how='inner',left_on = ['Year','province','adm_level','region','unit'],\n",
        "         right_on = ['Year','province','adm_level','region','unit'])"
      ],
      "metadata": {
        "id": "Vs4KiWQP5vem"
      },
      "execution_count": null,
      "outputs": []
    },
    {
      "cell_type": "code",
      "source": [
        "magnitude.head()"
      ],
      "metadata": {
        "colab": {
          "base_uri": "https://localhost:8080/"
        },
        "id": "AeCxePMiBhxK",
        "outputId": "5d0f4e12-6e12-4278-d876-cb58e3f648a3"
      },
      "execution_count": null,
      "outputs": [
        {
          "output_type": "execute_result",
          "data": {
            "text/plain": [
              "                     Variable_x  Year      province     value_x adm_level  \\\n",
              "0  Magnitude of Poor Population  2006  1st District     79,109   District   \n",
              "1  Magnitude of Poor Population  2009  1st District     84,914   District   \n",
              "2  Magnitude of Poor Population  2012  1st District    102,591   District   \n",
              "3  Magnitude of Poor Population  2015  1st District     82,007   District   \n",
              "4  Magnitude of Poor Population  2006  2nd District    183,449   District   \n",
              "\n",
              "  region        unit                                Variable_y    value_y  \n",
              "0    NCR  population  Magnitude of Subsistence Poor Population    22,528   \n",
              "1    NCR  population  Magnitude of Subsistence Poor Population          0  \n",
              "2    NCR  population  Magnitude of Subsistence Poor Population     8,902   \n",
              "3    NCR  population  Magnitude of Subsistence Poor Population    24,855   \n",
              "4    NCR  population  Magnitude of Subsistence Poor Population    13,020   "
            ],
            "text/html": [
              "\n",
              "  <div id=\"df-ee6fd66f-7cd9-48f2-9062-62653f3a610a\">\n",
              "    <div class=\"colab-df-container\">\n",
              "      <div>\n",
              "<style scoped>\n",
              "    .dataframe tbody tr th:only-of-type {\n",
              "        vertical-align: middle;\n",
              "    }\n",
              "\n",
              "    .dataframe tbody tr th {\n",
              "        vertical-align: top;\n",
              "    }\n",
              "\n",
              "    .dataframe thead th {\n",
              "        text-align: right;\n",
              "    }\n",
              "</style>\n",
              "<table border=\"1\" class=\"dataframe\">\n",
              "  <thead>\n",
              "    <tr style=\"text-align: right;\">\n",
              "      <th></th>\n",
              "      <th>Variable_x</th>\n",
              "      <th>Year</th>\n",
              "      <th>province</th>\n",
              "      <th>value_x</th>\n",
              "      <th>adm_level</th>\n",
              "      <th>region</th>\n",
              "      <th>unit</th>\n",
              "      <th>Variable_y</th>\n",
              "      <th>value_y</th>\n",
              "    </tr>\n",
              "  </thead>\n",
              "  <tbody>\n",
              "    <tr>\n",
              "      <th>0</th>\n",
              "      <td>Magnitude of Poor Population</td>\n",
              "      <td>2006</td>\n",
              "      <td>1st District</td>\n",
              "      <td>79,109</td>\n",
              "      <td>District</td>\n",
              "      <td>NCR</td>\n",
              "      <td>population</td>\n",
              "      <td>Magnitude of Subsistence Poor Population</td>\n",
              "      <td>22,528</td>\n",
              "    </tr>\n",
              "    <tr>\n",
              "      <th>1</th>\n",
              "      <td>Magnitude of Poor Population</td>\n",
              "      <td>2009</td>\n",
              "      <td>1st District</td>\n",
              "      <td>84,914</td>\n",
              "      <td>District</td>\n",
              "      <td>NCR</td>\n",
              "      <td>population</td>\n",
              "      <td>Magnitude of Subsistence Poor Population</td>\n",
              "      <td>0</td>\n",
              "    </tr>\n",
              "    <tr>\n",
              "      <th>2</th>\n",
              "      <td>Magnitude of Poor Population</td>\n",
              "      <td>2012</td>\n",
              "      <td>1st District</td>\n",
              "      <td>102,591</td>\n",
              "      <td>District</td>\n",
              "      <td>NCR</td>\n",
              "      <td>population</td>\n",
              "      <td>Magnitude of Subsistence Poor Population</td>\n",
              "      <td>8,902</td>\n",
              "    </tr>\n",
              "    <tr>\n",
              "      <th>3</th>\n",
              "      <td>Magnitude of Poor Population</td>\n",
              "      <td>2015</td>\n",
              "      <td>1st District</td>\n",
              "      <td>82,007</td>\n",
              "      <td>District</td>\n",
              "      <td>NCR</td>\n",
              "      <td>population</td>\n",
              "      <td>Magnitude of Subsistence Poor Population</td>\n",
              "      <td>24,855</td>\n",
              "    </tr>\n",
              "    <tr>\n",
              "      <th>4</th>\n",
              "      <td>Magnitude of Poor Population</td>\n",
              "      <td>2006</td>\n",
              "      <td>2nd District</td>\n",
              "      <td>183,449</td>\n",
              "      <td>District</td>\n",
              "      <td>NCR</td>\n",
              "      <td>population</td>\n",
              "      <td>Magnitude of Subsistence Poor Population</td>\n",
              "      <td>13,020</td>\n",
              "    </tr>\n",
              "  </tbody>\n",
              "</table>\n",
              "</div>\n",
              "      <button class=\"colab-df-convert\" onclick=\"convertToInteractive('df-ee6fd66f-7cd9-48f2-9062-62653f3a610a')\"\n",
              "              title=\"Convert this dataframe to an interactive table.\"\n",
              "              style=\"display:none;\">\n",
              "        \n",
              "  <svg xmlns=\"http://www.w3.org/2000/svg\" height=\"24px\"viewBox=\"0 0 24 24\"\n",
              "       width=\"24px\">\n",
              "    <path d=\"M0 0h24v24H0V0z\" fill=\"none\"/>\n",
              "    <path d=\"M18.56 5.44l.94 2.06.94-2.06 2.06-.94-2.06-.94-.94-2.06-.94 2.06-2.06.94zm-11 1L8.5 8.5l.94-2.06 2.06-.94-2.06-.94L8.5 2.5l-.94 2.06-2.06.94zm10 10l.94 2.06.94-2.06 2.06-.94-2.06-.94-.94-2.06-.94 2.06-2.06.94z\"/><path d=\"M17.41 7.96l-1.37-1.37c-.4-.4-.92-.59-1.43-.59-.52 0-1.04.2-1.43.59L10.3 9.45l-7.72 7.72c-.78.78-.78 2.05 0 2.83L4 21.41c.39.39.9.59 1.41.59.51 0 1.02-.2 1.41-.59l7.78-7.78 2.81-2.81c.8-.78.8-2.07 0-2.86zM5.41 20L4 18.59l7.72-7.72 1.47 1.35L5.41 20z\"/>\n",
              "  </svg>\n",
              "      </button>\n",
              "      \n",
              "  <style>\n",
              "    .colab-df-container {\n",
              "      display:flex;\n",
              "      flex-wrap:wrap;\n",
              "      gap: 12px;\n",
              "    }\n",
              "\n",
              "    .colab-df-convert {\n",
              "      background-color: #E8F0FE;\n",
              "      border: none;\n",
              "      border-radius: 50%;\n",
              "      cursor: pointer;\n",
              "      display: none;\n",
              "      fill: #1967D2;\n",
              "      height: 32px;\n",
              "      padding: 0 0 0 0;\n",
              "      width: 32px;\n",
              "    }\n",
              "\n",
              "    .colab-df-convert:hover {\n",
              "      background-color: #E2EBFA;\n",
              "      box-shadow: 0px 1px 2px rgba(60, 64, 67, 0.3), 0px 1px 3px 1px rgba(60, 64, 67, 0.15);\n",
              "      fill: #174EA6;\n",
              "    }\n",
              "\n",
              "    [theme=dark] .colab-df-convert {\n",
              "      background-color: #3B4455;\n",
              "      fill: #D2E3FC;\n",
              "    }\n",
              "\n",
              "    [theme=dark] .colab-df-convert:hover {\n",
              "      background-color: #434B5C;\n",
              "      box-shadow: 0px 1px 3px 1px rgba(0, 0, 0, 0.15);\n",
              "      filter: drop-shadow(0px 1px 2px rgba(0, 0, 0, 0.3));\n",
              "      fill: #FFFFFF;\n",
              "    }\n",
              "  </style>\n",
              "\n",
              "      <script>\n",
              "        const buttonEl =\n",
              "          document.querySelector('#df-ee6fd66f-7cd9-48f2-9062-62653f3a610a button.colab-df-convert');\n",
              "        buttonEl.style.display =\n",
              "          google.colab.kernel.accessAllowed ? 'block' : 'none';\n",
              "\n",
              "        async function convertToInteractive(key) {\n",
              "          const element = document.querySelector('#df-ee6fd66f-7cd9-48f2-9062-62653f3a610a');\n",
              "          const dataTable =\n",
              "            await google.colab.kernel.invokeFunction('convertToInteractive',\n",
              "                                                     [key], {});\n",
              "          if (!dataTable) return;\n",
              "\n",
              "          const docLinkHtml = 'Like what you see? Visit the ' +\n",
              "            '<a target=\"_blank\" href=https://colab.research.google.com/notebooks/data_table.ipynb>data table notebook</a>'\n",
              "            + ' to learn more about interactive tables.';\n",
              "          element.innerHTML = '';\n",
              "          dataTable['output_type'] = 'display_data';\n",
              "          await google.colab.output.renderOutput(dataTable, element);\n",
              "          const docLink = document.createElement('div');\n",
              "          docLink.innerHTML = docLinkHtml;\n",
              "          element.appendChild(docLink);\n",
              "        }\n",
              "      </script>\n",
              "    </div>\n",
              "  </div>\n",
              "  "
            ]
          },
          "metadata": {},
          "execution_count": 30
        }
      ]
    },
    {
      "cell_type": "code",
      "source": [
        "magnitude = magnitude.rename(columns = {'value_x': 'Magnitude of Poor Population', 'value_y': 'Magnitude of Subsistence Poor Population' })"
      ],
      "metadata": {
        "id": "oaqMLqsCCRvj"
      },
      "execution_count": null,
      "outputs": []
    },
    {
      "cell_type": "code",
      "source": [
        "magnitude = magnitude.drop(columns=['Variable_x','Variable_y']) #remove unnecessary columns \n",
        "#change the order of dataframe columns for easy reading \n",
        "magnitude = magnitude.reindex(['Year','Magnitude of Poor Population','Magnitude of Subsistence Poor Population','province', 'adm_level','region','unit'],axis=1)"
      ],
      "metadata": {
        "id": "Iz55rqc5Cxpu"
      },
      "execution_count": null,
      "outputs": []
    },
    {
      "cell_type": "code",
      "source": [
        "magnitude"
      ],
      "metadata": {
        "colab": {
          "base_uri": "https://localhost:8080/"
        },
        "id": "07FN03GvE4xz",
        "outputId": "cf030b87-c46a-4005-edd4-b37588ab27ca"
      },
      "execution_count": null,
      "outputs": [
        {
          "output_type": "execute_result",
          "data": {
            "text/plain": [
              "     Year Magnitude of Poor Population  \\\n",
              "0    2006                      79,109    \n",
              "1    2009                      84,914    \n",
              "2    2012                     102,591    \n",
              "3    2015                      82,007    \n",
              "4    2006                     183,449    \n",
              "..    ...                          ...   \n",
              "399  2015                     588,451    \n",
              "400  2006                     515,055    \n",
              "401  2009                     532,271    \n",
              "402  2012                     587,598    \n",
              "403  2015                     476,765    \n",
              "\n",
              "    Magnitude of Subsistence Poor Population             province adm_level  \\\n",
              "0                                    22,528          1st District  District   \n",
              "1                                          0         1st District  District   \n",
              "2                                     8,902          1st District  District   \n",
              "3                                    24,855          1st District  District   \n",
              "4                                    13,020          2nd District  District   \n",
              "..                                       ...                  ...       ...   \n",
              "399                                 318,045   Zamboanga del Norte  Province   \n",
              "400                                 268,576     Zamboanga del Sur  Province   \n",
              "401                                 261,992     Zamboanga del Sur  Province   \n",
              "402                                 209,765     Zamboanga del Sur  Province   \n",
              "403                                 143,740     Zamboanga del Sur  Province   \n",
              "\n",
              "        region        unit  \n",
              "0          NCR  population  \n",
              "1          NCR  population  \n",
              "2          NCR  population  \n",
              "3          NCR  population  \n",
              "4          NCR  population  \n",
              "..         ...         ...  \n",
              "399  Region IX  population  \n",
              "400  Region IX  population  \n",
              "401  Region IX  population  \n",
              "402  Region IX  population  \n",
              "403  Region IX  population  \n",
              "\n",
              "[404 rows x 7 columns]"
            ],
            "text/html": [
              "\n",
              "  <div id=\"df-90811214-8e97-4e09-b077-49fe82c664fc\">\n",
              "    <div class=\"colab-df-container\">\n",
              "      <div>\n",
              "<style scoped>\n",
              "    .dataframe tbody tr th:only-of-type {\n",
              "        vertical-align: middle;\n",
              "    }\n",
              "\n",
              "    .dataframe tbody tr th {\n",
              "        vertical-align: top;\n",
              "    }\n",
              "\n",
              "    .dataframe thead th {\n",
              "        text-align: right;\n",
              "    }\n",
              "</style>\n",
              "<table border=\"1\" class=\"dataframe\">\n",
              "  <thead>\n",
              "    <tr style=\"text-align: right;\">\n",
              "      <th></th>\n",
              "      <th>Year</th>\n",
              "      <th>Magnitude of Poor Population</th>\n",
              "      <th>Magnitude of Subsistence Poor Population</th>\n",
              "      <th>province</th>\n",
              "      <th>adm_level</th>\n",
              "      <th>region</th>\n",
              "      <th>unit</th>\n",
              "    </tr>\n",
              "  </thead>\n",
              "  <tbody>\n",
              "    <tr>\n",
              "      <th>0</th>\n",
              "      <td>2006</td>\n",
              "      <td>79,109</td>\n",
              "      <td>22,528</td>\n",
              "      <td>1st District</td>\n",
              "      <td>District</td>\n",
              "      <td>NCR</td>\n",
              "      <td>population</td>\n",
              "    </tr>\n",
              "    <tr>\n",
              "      <th>1</th>\n",
              "      <td>2009</td>\n",
              "      <td>84,914</td>\n",
              "      <td>0</td>\n",
              "      <td>1st District</td>\n",
              "      <td>District</td>\n",
              "      <td>NCR</td>\n",
              "      <td>population</td>\n",
              "    </tr>\n",
              "    <tr>\n",
              "      <th>2</th>\n",
              "      <td>2012</td>\n",
              "      <td>102,591</td>\n",
              "      <td>8,902</td>\n",
              "      <td>1st District</td>\n",
              "      <td>District</td>\n",
              "      <td>NCR</td>\n",
              "      <td>population</td>\n",
              "    </tr>\n",
              "    <tr>\n",
              "      <th>3</th>\n",
              "      <td>2015</td>\n",
              "      <td>82,007</td>\n",
              "      <td>24,855</td>\n",
              "      <td>1st District</td>\n",
              "      <td>District</td>\n",
              "      <td>NCR</td>\n",
              "      <td>population</td>\n",
              "    </tr>\n",
              "    <tr>\n",
              "      <th>4</th>\n",
              "      <td>2006</td>\n",
              "      <td>183,449</td>\n",
              "      <td>13,020</td>\n",
              "      <td>2nd District</td>\n",
              "      <td>District</td>\n",
              "      <td>NCR</td>\n",
              "      <td>population</td>\n",
              "    </tr>\n",
              "    <tr>\n",
              "      <th>...</th>\n",
              "      <td>...</td>\n",
              "      <td>...</td>\n",
              "      <td>...</td>\n",
              "      <td>...</td>\n",
              "      <td>...</td>\n",
              "      <td>...</td>\n",
              "      <td>...</td>\n",
              "    </tr>\n",
              "    <tr>\n",
              "      <th>399</th>\n",
              "      <td>2015</td>\n",
              "      <td>588,451</td>\n",
              "      <td>318,045</td>\n",
              "      <td>Zamboanga del Norte</td>\n",
              "      <td>Province</td>\n",
              "      <td>Region IX</td>\n",
              "      <td>population</td>\n",
              "    </tr>\n",
              "    <tr>\n",
              "      <th>400</th>\n",
              "      <td>2006</td>\n",
              "      <td>515,055</td>\n",
              "      <td>268,576</td>\n",
              "      <td>Zamboanga del Sur</td>\n",
              "      <td>Province</td>\n",
              "      <td>Region IX</td>\n",
              "      <td>population</td>\n",
              "    </tr>\n",
              "    <tr>\n",
              "      <th>401</th>\n",
              "      <td>2009</td>\n",
              "      <td>532,271</td>\n",
              "      <td>261,992</td>\n",
              "      <td>Zamboanga del Sur</td>\n",
              "      <td>Province</td>\n",
              "      <td>Region IX</td>\n",
              "      <td>population</td>\n",
              "    </tr>\n",
              "    <tr>\n",
              "      <th>402</th>\n",
              "      <td>2012</td>\n",
              "      <td>587,598</td>\n",
              "      <td>209,765</td>\n",
              "      <td>Zamboanga del Sur</td>\n",
              "      <td>Province</td>\n",
              "      <td>Region IX</td>\n",
              "      <td>population</td>\n",
              "    </tr>\n",
              "    <tr>\n",
              "      <th>403</th>\n",
              "      <td>2015</td>\n",
              "      <td>476,765</td>\n",
              "      <td>143,740</td>\n",
              "      <td>Zamboanga del Sur</td>\n",
              "      <td>Province</td>\n",
              "      <td>Region IX</td>\n",
              "      <td>population</td>\n",
              "    </tr>\n",
              "  </tbody>\n",
              "</table>\n",
              "<p>404 rows × 7 columns</p>\n",
              "</div>\n",
              "      <button class=\"colab-df-convert\" onclick=\"convertToInteractive('df-90811214-8e97-4e09-b077-49fe82c664fc')\"\n",
              "              title=\"Convert this dataframe to an interactive table.\"\n",
              "              style=\"display:none;\">\n",
              "        \n",
              "  <svg xmlns=\"http://www.w3.org/2000/svg\" height=\"24px\"viewBox=\"0 0 24 24\"\n",
              "       width=\"24px\">\n",
              "    <path d=\"M0 0h24v24H0V0z\" fill=\"none\"/>\n",
              "    <path d=\"M18.56 5.44l.94 2.06.94-2.06 2.06-.94-2.06-.94-.94-2.06-.94 2.06-2.06.94zm-11 1L8.5 8.5l.94-2.06 2.06-.94-2.06-.94L8.5 2.5l-.94 2.06-2.06.94zm10 10l.94 2.06.94-2.06 2.06-.94-2.06-.94-.94-2.06-.94 2.06-2.06.94z\"/><path d=\"M17.41 7.96l-1.37-1.37c-.4-.4-.92-.59-1.43-.59-.52 0-1.04.2-1.43.59L10.3 9.45l-7.72 7.72c-.78.78-.78 2.05 0 2.83L4 21.41c.39.39.9.59 1.41.59.51 0 1.02-.2 1.41-.59l7.78-7.78 2.81-2.81c.8-.78.8-2.07 0-2.86zM5.41 20L4 18.59l7.72-7.72 1.47 1.35L5.41 20z\"/>\n",
              "  </svg>\n",
              "      </button>\n",
              "      \n",
              "  <style>\n",
              "    .colab-df-container {\n",
              "      display:flex;\n",
              "      flex-wrap:wrap;\n",
              "      gap: 12px;\n",
              "    }\n",
              "\n",
              "    .colab-df-convert {\n",
              "      background-color: #E8F0FE;\n",
              "      border: none;\n",
              "      border-radius: 50%;\n",
              "      cursor: pointer;\n",
              "      display: none;\n",
              "      fill: #1967D2;\n",
              "      height: 32px;\n",
              "      padding: 0 0 0 0;\n",
              "      width: 32px;\n",
              "    }\n",
              "\n",
              "    .colab-df-convert:hover {\n",
              "      background-color: #E2EBFA;\n",
              "      box-shadow: 0px 1px 2px rgba(60, 64, 67, 0.3), 0px 1px 3px 1px rgba(60, 64, 67, 0.15);\n",
              "      fill: #174EA6;\n",
              "    }\n",
              "\n",
              "    [theme=dark] .colab-df-convert {\n",
              "      background-color: #3B4455;\n",
              "      fill: #D2E3FC;\n",
              "    }\n",
              "\n",
              "    [theme=dark] .colab-df-convert:hover {\n",
              "      background-color: #434B5C;\n",
              "      box-shadow: 0px 1px 3px 1px rgba(0, 0, 0, 0.15);\n",
              "      filter: drop-shadow(0px 1px 2px rgba(0, 0, 0, 0.3));\n",
              "      fill: #FFFFFF;\n",
              "    }\n",
              "  </style>\n",
              "\n",
              "      <script>\n",
              "        const buttonEl =\n",
              "          document.querySelector('#df-90811214-8e97-4e09-b077-49fe82c664fc button.colab-df-convert');\n",
              "        buttonEl.style.display =\n",
              "          google.colab.kernel.accessAllowed ? 'block' : 'none';\n",
              "\n",
              "        async function convertToInteractive(key) {\n",
              "          const element = document.querySelector('#df-90811214-8e97-4e09-b077-49fe82c664fc');\n",
              "          const dataTable =\n",
              "            await google.colab.kernel.invokeFunction('convertToInteractive',\n",
              "                                                     [key], {});\n",
              "          if (!dataTable) return;\n",
              "\n",
              "          const docLinkHtml = 'Like what you see? Visit the ' +\n",
              "            '<a target=\"_blank\" href=https://colab.research.google.com/notebooks/data_table.ipynb>data table notebook</a>'\n",
              "            + ' to learn more about interactive tables.';\n",
              "          element.innerHTML = '';\n",
              "          dataTable['output_type'] = 'display_data';\n",
              "          await google.colab.output.renderOutput(dataTable, element);\n",
              "          const docLink = document.createElement('div');\n",
              "          docLink.innerHTML = docLinkHtml;\n",
              "          element.appendChild(docLink);\n",
              "        }\n",
              "      </script>\n",
              "    </div>\n",
              "  </div>\n",
              "  "
            ]
          },
          "metadata": {},
          "execution_count": 33
        }
      ]
    },
    {
      "cell_type": "code",
      "source": [
        "magnitude.info()"
      ],
      "metadata": {
        "colab": {
          "base_uri": "https://localhost:8080/"
        },
        "id": "RBhMEG7kFcr5",
        "outputId": "07486981-80f2-40fa-ef7b-dc536a140322"
      },
      "execution_count": null,
      "outputs": [
        {
          "output_type": "stream",
          "name": "stdout",
          "text": [
            "<class 'pandas.core.frame.DataFrame'>\n",
            "Int64Index: 404 entries, 0 to 403\n",
            "Data columns (total 7 columns):\n",
            " #   Column                                    Non-Null Count  Dtype \n",
            "---  ------                                    --------------  ----- \n",
            " 0   Year                                      404 non-null    int64 \n",
            " 1   Magnitude of Poor Population              404 non-null    object\n",
            " 2   Magnitude of Subsistence Poor Population  404 non-null    object\n",
            " 3   province                                  404 non-null    object\n",
            " 4   adm_level                                 404 non-null    object\n",
            " 5   region                                    404 non-null    object\n",
            " 6   unit                                      404 non-null    object\n",
            "dtypes: int64(1), object(6)\n",
            "memory usage: 25.2+ KB\n"
          ]
        }
      ]
    },
    {
      "cell_type": "markdown",
      "source": [
        "###Change column type to int to perform analysis"
      ],
      "metadata": {
        "id": "HiCyfXJemiqN"
      }
    },
    {
      "cell_type": "markdown",
      "source": [
        "Columns 1 and 2 are the target columns for the numerical analysis. However, its type needs to be converted to numeric for analysis to be possible. "
      ],
      "metadata": {
        "id": "JapGl077m6T0"
      }
    },
    {
      "cell_type": "code",
      "source": [
        "magnitude.info()"
      ],
      "metadata": {
        "colab": {
          "base_uri": "https://localhost:8080/"
        },
        "id": "1yUexVVBmwk1",
        "outputId": "3090addb-da0d-46f0-92fc-cdbad1300708"
      },
      "execution_count": null,
      "outputs": [
        {
          "output_type": "stream",
          "name": "stdout",
          "text": [
            "<class 'pandas.core.frame.DataFrame'>\n",
            "Int64Index: 404 entries, 0 to 403\n",
            "Data columns (total 7 columns):\n",
            " #   Column                                    Non-Null Count  Dtype \n",
            "---  ------                                    --------------  ----- \n",
            " 0   Year                                      404 non-null    int64 \n",
            " 1   Magnitude of Poor Population              404 non-null    object\n",
            " 2   Magnitude of Subsistence Poor Population  404 non-null    object\n",
            " 3   province                                  404 non-null    object\n",
            " 4   adm_level                                 404 non-null    object\n",
            " 5   region                                    404 non-null    object\n",
            " 6   unit                                      404 non-null    object\n",
            "dtypes: int64(1), object(6)\n",
            "memory usage: 25.2+ KB\n"
          ]
        }
      ]
    },
    {
      "cell_type": "markdown",
      "source": [
        "Removes trailing and leading spaces for each value in the target columns "
      ],
      "metadata": {
        "id": "SlAuTS5-nLIS"
      }
    },
    {
      "cell_type": "code",
      "source": [
        "magnitude['Magnitude of Poor Population']=magnitude['Magnitude of Poor Population'].str.strip()\n",
        "magnitude['Magnitude of Subsistence Poor Population']=magnitude['Magnitude of Subsistence Poor Population'].str.strip() "
      ],
      "metadata": {
        "id": "8rT1_cE6K4Bv"
      },
      "execution_count": null,
      "outputs": []
    },
    {
      "cell_type": "markdown",
      "source": [
        "Remove the comma in each value so that the value can be typecasted to numeric "
      ],
      "metadata": {
        "id": "cRKt-Mr2nYTy"
      }
    },
    {
      "cell_type": "code",
      "source": [
        "magnitude['Magnitude of Poor Population'] = magnitude['Magnitude of Poor Population'].apply(lambda x: x.replace(',',''))\n",
        "magnitude['Magnitude of Subsistence Poor Population'] = magnitude['Magnitude of Subsistence Poor Population'].apply(lambda x: x.replace(',',''))"
      ],
      "metadata": {
        "id": "SlV9eISpkcJO"
      },
      "execution_count": null,
      "outputs": []
    },
    {
      "cell_type": "markdown",
      "source": [
        "Convert the column type to numeric using `pd.to_numeric`. <br> \n",
        "`coerce` handles the errors when there are non-numeric data that will be converted to numeric. If the program encounters non-numeric data, the value will be changed to null. "
      ],
      "metadata": {
        "id": "fQuel1Gqny38"
      }
    },
    {
      "cell_type": "code",
      "source": [
        "magnitude['Magnitude of Poor Population'] = pd.to_numeric(magnitude['Magnitude of Poor Population'], errors='coerce') \n",
        "magnitude['Magnitude of Subsistence Poor Population'] = pd.to_numeric(magnitude['Magnitude of Subsistence Poor Population'], errors='coerce') "
      ],
      "metadata": {
        "id": "OP-IxH2GLTb9"
      },
      "execution_count": null,
      "outputs": []
    },
    {
      "cell_type": "code",
      "source": [
        "magnitude.info()"
      ],
      "metadata": {
        "colab": {
          "base_uri": "https://localhost:8080/"
        },
        "id": "mPnXrpe1jy9N",
        "outputId": "48f54ba5-209d-417c-ef37-3ce5521eb3c0"
      },
      "execution_count": null,
      "outputs": [
        {
          "output_type": "stream",
          "name": "stdout",
          "text": [
            "<class 'pandas.core.frame.DataFrame'>\n",
            "Int64Index: 404 entries, 0 to 403\n",
            "Data columns (total 7 columns):\n",
            " #   Column                                    Non-Null Count  Dtype  \n",
            "---  ------                                    --------------  -----  \n",
            " 0   Year                                      404 non-null    int64  \n",
            " 1   Magnitude of Poor Population              403 non-null    float64\n",
            " 2   Magnitude of Subsistence Poor Population  404 non-null    float64\n",
            " 3   province                                  404 non-null    object \n",
            " 4   adm_level                                 404 non-null    object \n",
            " 5   region                                    404 non-null    object \n",
            " 6   unit                                      404 non-null    object \n",
            "dtypes: float64(2), int64(1), object(4)\n",
            "memory usage: 25.2+ KB\n"
          ]
        }
      ]
    },
    {
      "cell_type": "markdown",
      "source": [
        "From the table, there is a null value in the second column. Let us view that row containing the null value. "
      ],
      "metadata": {
        "id": "B8LFDCzqpm3E"
      }
    },
    {
      "cell_type": "code",
      "source": [
        "magnitude[magnitude['Magnitude of Poor Population'].isnull()]"
      ],
      "metadata": {
        "colab": {
          "base_uri": "https://localhost:8080/",
          "height": 81
        },
        "id": "cduT1ykXmCi5",
        "outputId": "9ad23b29-2ab6-4684-97c9-cbbe0d8da310"
      },
      "execution_count": null,
      "outputs": [
        {
          "output_type": "execute_result",
          "data": {
            "text/plain": [
              "    Year  Magnitude of Poor Population  \\\n",
              "63  2015                           NaN   \n",
              "\n",
              "    Magnitude of Subsistence Poor Population province adm_level     region  \\\n",
              "63                                       0.0  Batanes  Province  Region II   \n",
              "\n",
              "          unit  \n",
              "63  population  "
            ],
            "text/html": [
              "\n",
              "  <div id=\"df-f8d8bf69-a5f1-440b-b823-4a10255a30a9\">\n",
              "    <div class=\"colab-df-container\">\n",
              "      <div>\n",
              "<style scoped>\n",
              "    .dataframe tbody tr th:only-of-type {\n",
              "        vertical-align: middle;\n",
              "    }\n",
              "\n",
              "    .dataframe tbody tr th {\n",
              "        vertical-align: top;\n",
              "    }\n",
              "\n",
              "    .dataframe thead th {\n",
              "        text-align: right;\n",
              "    }\n",
              "</style>\n",
              "<table border=\"1\" class=\"dataframe\">\n",
              "  <thead>\n",
              "    <tr style=\"text-align: right;\">\n",
              "      <th></th>\n",
              "      <th>Year</th>\n",
              "      <th>Magnitude of Poor Population</th>\n",
              "      <th>Magnitude of Subsistence Poor Population</th>\n",
              "      <th>province</th>\n",
              "      <th>adm_level</th>\n",
              "      <th>region</th>\n",
              "      <th>unit</th>\n",
              "    </tr>\n",
              "  </thead>\n",
              "  <tbody>\n",
              "    <tr>\n",
              "      <th>63</th>\n",
              "      <td>2015</td>\n",
              "      <td>NaN</td>\n",
              "      <td>0.0</td>\n",
              "      <td>Batanes</td>\n",
              "      <td>Province</td>\n",
              "      <td>Region II</td>\n",
              "      <td>population</td>\n",
              "    </tr>\n",
              "  </tbody>\n",
              "</table>\n",
              "</div>\n",
              "      <button class=\"colab-df-convert\" onclick=\"convertToInteractive('df-f8d8bf69-a5f1-440b-b823-4a10255a30a9')\"\n",
              "              title=\"Convert this dataframe to an interactive table.\"\n",
              "              style=\"display:none;\">\n",
              "        \n",
              "  <svg xmlns=\"http://www.w3.org/2000/svg\" height=\"24px\"viewBox=\"0 0 24 24\"\n",
              "       width=\"24px\">\n",
              "    <path d=\"M0 0h24v24H0V0z\" fill=\"none\"/>\n",
              "    <path d=\"M18.56 5.44l.94 2.06.94-2.06 2.06-.94-2.06-.94-.94-2.06-.94 2.06-2.06.94zm-11 1L8.5 8.5l.94-2.06 2.06-.94-2.06-.94L8.5 2.5l-.94 2.06-2.06.94zm10 10l.94 2.06.94-2.06 2.06-.94-2.06-.94-.94-2.06-.94 2.06-2.06.94z\"/><path d=\"M17.41 7.96l-1.37-1.37c-.4-.4-.92-.59-1.43-.59-.52 0-1.04.2-1.43.59L10.3 9.45l-7.72 7.72c-.78.78-.78 2.05 0 2.83L4 21.41c.39.39.9.59 1.41.59.51 0 1.02-.2 1.41-.59l7.78-7.78 2.81-2.81c.8-.78.8-2.07 0-2.86zM5.41 20L4 18.59l7.72-7.72 1.47 1.35L5.41 20z\"/>\n",
              "  </svg>\n",
              "      </button>\n",
              "      \n",
              "  <style>\n",
              "    .colab-df-container {\n",
              "      display:flex;\n",
              "      flex-wrap:wrap;\n",
              "      gap: 12px;\n",
              "    }\n",
              "\n",
              "    .colab-df-convert {\n",
              "      background-color: #E8F0FE;\n",
              "      border: none;\n",
              "      border-radius: 50%;\n",
              "      cursor: pointer;\n",
              "      display: none;\n",
              "      fill: #1967D2;\n",
              "      height: 32px;\n",
              "      padding: 0 0 0 0;\n",
              "      width: 32px;\n",
              "    }\n",
              "\n",
              "    .colab-df-convert:hover {\n",
              "      background-color: #E2EBFA;\n",
              "      box-shadow: 0px 1px 2px rgba(60, 64, 67, 0.3), 0px 1px 3px 1px rgba(60, 64, 67, 0.15);\n",
              "      fill: #174EA6;\n",
              "    }\n",
              "\n",
              "    [theme=dark] .colab-df-convert {\n",
              "      background-color: #3B4455;\n",
              "      fill: #D2E3FC;\n",
              "    }\n",
              "\n",
              "    [theme=dark] .colab-df-convert:hover {\n",
              "      background-color: #434B5C;\n",
              "      box-shadow: 0px 1px 3px 1px rgba(0, 0, 0, 0.15);\n",
              "      filter: drop-shadow(0px 1px 2px rgba(0, 0, 0, 0.3));\n",
              "      fill: #FFFFFF;\n",
              "    }\n",
              "  </style>\n",
              "\n",
              "      <script>\n",
              "        const buttonEl =\n",
              "          document.querySelector('#df-f8d8bf69-a5f1-440b-b823-4a10255a30a9 button.colab-df-convert');\n",
              "        buttonEl.style.display =\n",
              "          google.colab.kernel.accessAllowed ? 'block' : 'none';\n",
              "\n",
              "        async function convertToInteractive(key) {\n",
              "          const element = document.querySelector('#df-f8d8bf69-a5f1-440b-b823-4a10255a30a9');\n",
              "          const dataTable =\n",
              "            await google.colab.kernel.invokeFunction('convertToInteractive',\n",
              "                                                     [key], {});\n",
              "          if (!dataTable) return;\n",
              "\n",
              "          const docLinkHtml = 'Like what you see? Visit the ' +\n",
              "            '<a target=\"_blank\" href=https://colab.research.google.com/notebooks/data_table.ipynb>data table notebook</a>'\n",
              "            + ' to learn more about interactive tables.';\n",
              "          element.innerHTML = '';\n",
              "          dataTable['output_type'] = 'display_data';\n",
              "          await google.colab.output.renderOutput(dataTable, element);\n",
              "          const docLink = document.createElement('div');\n",
              "          docLink.innerHTML = docLinkHtml;\n",
              "          element.appendChild(docLink);\n",
              "        }\n",
              "      </script>\n",
              "    </div>\n",
              "  </div>\n",
              "  "
            ]
          },
          "metadata": {},
          "execution_count": 40
        }
      ]
    },
    {
      "cell_type": "markdown",
      "source": [
        "We will fill in the null value with zero. "
      ],
      "metadata": {
        "id": "E0jFALpfpwJ-"
      }
    },
    {
      "cell_type": "code",
      "source": [
        "magnitude['Magnitude of Poor Population']= magnitude['Magnitude of Poor Population'].fillna(0)"
      ],
      "metadata": {
        "id": "7zpzbUa9qOr1"
      },
      "execution_count": null,
      "outputs": []
    },
    {
      "cell_type": "code",
      "source": [
        "magnitude.info()"
      ],
      "metadata": {
        "colab": {
          "base_uri": "https://localhost:8080/"
        },
        "id": "kcaSfJS1qXGk",
        "outputId": "34f5b95a-6b7e-49e7-99dc-f8d85d44315c"
      },
      "execution_count": null,
      "outputs": [
        {
          "output_type": "stream",
          "name": "stdout",
          "text": [
            "<class 'pandas.core.frame.DataFrame'>\n",
            "Int64Index: 404 entries, 0 to 403\n",
            "Data columns (total 7 columns):\n",
            " #   Column                                    Non-Null Count  Dtype  \n",
            "---  ------                                    --------------  -----  \n",
            " 0   Year                                      404 non-null    int64  \n",
            " 1   Magnitude of Poor Population              404 non-null    float64\n",
            " 2   Magnitude of Subsistence Poor Population  404 non-null    float64\n",
            " 3   province                                  404 non-null    object \n",
            " 4   adm_level                                 404 non-null    object \n",
            " 5   region                                    404 non-null    object \n",
            " 6   unit                                      404 non-null    object \n",
            "dtypes: float64(2), int64(1), object(4)\n",
            "memory usage: 25.2+ KB\n"
          ]
        }
      ]
    },
    {
      "cell_type": "code",
      "source": [
        "magnitude.describe()"
      ],
      "metadata": {
        "colab": {
          "base_uri": "https://localhost:8080/",
          "height": 300
        },
        "id": "TopNPfOtrqE4",
        "outputId": "400251bc-b2e2-401e-d567-8073a4f5173d"
      },
      "execution_count": null,
      "outputs": [
        {
          "output_type": "execute_result",
          "data": {
            "text/plain": [
              "              Year  Magnitude of Poor Population  \\\n",
              "count   404.000000                  4.040000e+02   \n",
              "mean   2010.500000                  6.791067e+05   \n",
              "std       3.358261                  2.282041e+06   \n",
              "min    2006.000000                  0.000000e+00   \n",
              "25%    2008.250000                  1.197910e+05   \n",
              "50%    2010.500000                  2.814060e+05   \n",
              "75%    2012.750000                  5.650242e+05   \n",
              "max    2015.000000                  2.374590e+07   \n",
              "\n",
              "       Magnitude of Subsistence Poor Population  \n",
              "count                              4.040000e+02  \n",
              "mean                               2.815896e+05  \n",
              "std                                9.527893e+05  \n",
              "min                                0.000000e+00  \n",
              "25%                                3.327450e+04  \n",
              "50%                                1.192845e+05  \n",
              "75%                                2.471012e+05  \n",
              "max                                1.023330e+07  "
            ],
            "text/html": [
              "\n",
              "  <div id=\"df-371fdb85-9890-4167-b0cc-002ee1fd4b05\">\n",
              "    <div class=\"colab-df-container\">\n",
              "      <div>\n",
              "<style scoped>\n",
              "    .dataframe tbody tr th:only-of-type {\n",
              "        vertical-align: middle;\n",
              "    }\n",
              "\n",
              "    .dataframe tbody tr th {\n",
              "        vertical-align: top;\n",
              "    }\n",
              "\n",
              "    .dataframe thead th {\n",
              "        text-align: right;\n",
              "    }\n",
              "</style>\n",
              "<table border=\"1\" class=\"dataframe\">\n",
              "  <thead>\n",
              "    <tr style=\"text-align: right;\">\n",
              "      <th></th>\n",
              "      <th>Year</th>\n",
              "      <th>Magnitude of Poor Population</th>\n",
              "      <th>Magnitude of Subsistence Poor Population</th>\n",
              "    </tr>\n",
              "  </thead>\n",
              "  <tbody>\n",
              "    <tr>\n",
              "      <th>count</th>\n",
              "      <td>404.000000</td>\n",
              "      <td>4.040000e+02</td>\n",
              "      <td>4.040000e+02</td>\n",
              "    </tr>\n",
              "    <tr>\n",
              "      <th>mean</th>\n",
              "      <td>2010.500000</td>\n",
              "      <td>6.791067e+05</td>\n",
              "      <td>2.815896e+05</td>\n",
              "    </tr>\n",
              "    <tr>\n",
              "      <th>std</th>\n",
              "      <td>3.358261</td>\n",
              "      <td>2.282041e+06</td>\n",
              "      <td>9.527893e+05</td>\n",
              "    </tr>\n",
              "    <tr>\n",
              "      <th>min</th>\n",
              "      <td>2006.000000</td>\n",
              "      <td>0.000000e+00</td>\n",
              "      <td>0.000000e+00</td>\n",
              "    </tr>\n",
              "    <tr>\n",
              "      <th>25%</th>\n",
              "      <td>2008.250000</td>\n",
              "      <td>1.197910e+05</td>\n",
              "      <td>3.327450e+04</td>\n",
              "    </tr>\n",
              "    <tr>\n",
              "      <th>50%</th>\n",
              "      <td>2010.500000</td>\n",
              "      <td>2.814060e+05</td>\n",
              "      <td>1.192845e+05</td>\n",
              "    </tr>\n",
              "    <tr>\n",
              "      <th>75%</th>\n",
              "      <td>2012.750000</td>\n",
              "      <td>5.650242e+05</td>\n",
              "      <td>2.471012e+05</td>\n",
              "    </tr>\n",
              "    <tr>\n",
              "      <th>max</th>\n",
              "      <td>2015.000000</td>\n",
              "      <td>2.374590e+07</td>\n",
              "      <td>1.023330e+07</td>\n",
              "    </tr>\n",
              "  </tbody>\n",
              "</table>\n",
              "</div>\n",
              "      <button class=\"colab-df-convert\" onclick=\"convertToInteractive('df-371fdb85-9890-4167-b0cc-002ee1fd4b05')\"\n",
              "              title=\"Convert this dataframe to an interactive table.\"\n",
              "              style=\"display:none;\">\n",
              "        \n",
              "  <svg xmlns=\"http://www.w3.org/2000/svg\" height=\"24px\"viewBox=\"0 0 24 24\"\n",
              "       width=\"24px\">\n",
              "    <path d=\"M0 0h24v24H0V0z\" fill=\"none\"/>\n",
              "    <path d=\"M18.56 5.44l.94 2.06.94-2.06 2.06-.94-2.06-.94-.94-2.06-.94 2.06-2.06.94zm-11 1L8.5 8.5l.94-2.06 2.06-.94-2.06-.94L8.5 2.5l-.94 2.06-2.06.94zm10 10l.94 2.06.94-2.06 2.06-.94-2.06-.94-.94-2.06-.94 2.06-2.06.94z\"/><path d=\"M17.41 7.96l-1.37-1.37c-.4-.4-.92-.59-1.43-.59-.52 0-1.04.2-1.43.59L10.3 9.45l-7.72 7.72c-.78.78-.78 2.05 0 2.83L4 21.41c.39.39.9.59 1.41.59.51 0 1.02-.2 1.41-.59l7.78-7.78 2.81-2.81c.8-.78.8-2.07 0-2.86zM5.41 20L4 18.59l7.72-7.72 1.47 1.35L5.41 20z\"/>\n",
              "  </svg>\n",
              "      </button>\n",
              "      \n",
              "  <style>\n",
              "    .colab-df-container {\n",
              "      display:flex;\n",
              "      flex-wrap:wrap;\n",
              "      gap: 12px;\n",
              "    }\n",
              "\n",
              "    .colab-df-convert {\n",
              "      background-color: #E8F0FE;\n",
              "      border: none;\n",
              "      border-radius: 50%;\n",
              "      cursor: pointer;\n",
              "      display: none;\n",
              "      fill: #1967D2;\n",
              "      height: 32px;\n",
              "      padding: 0 0 0 0;\n",
              "      width: 32px;\n",
              "    }\n",
              "\n",
              "    .colab-df-convert:hover {\n",
              "      background-color: #E2EBFA;\n",
              "      box-shadow: 0px 1px 2px rgba(60, 64, 67, 0.3), 0px 1px 3px 1px rgba(60, 64, 67, 0.15);\n",
              "      fill: #174EA6;\n",
              "    }\n",
              "\n",
              "    [theme=dark] .colab-df-convert {\n",
              "      background-color: #3B4455;\n",
              "      fill: #D2E3FC;\n",
              "    }\n",
              "\n",
              "    [theme=dark] .colab-df-convert:hover {\n",
              "      background-color: #434B5C;\n",
              "      box-shadow: 0px 1px 3px 1px rgba(0, 0, 0, 0.15);\n",
              "      filter: drop-shadow(0px 1px 2px rgba(0, 0, 0, 0.3));\n",
              "      fill: #FFFFFF;\n",
              "    }\n",
              "  </style>\n",
              "\n",
              "      <script>\n",
              "        const buttonEl =\n",
              "          document.querySelector('#df-371fdb85-9890-4167-b0cc-002ee1fd4b05 button.colab-df-convert');\n",
              "        buttonEl.style.display =\n",
              "          google.colab.kernel.accessAllowed ? 'block' : 'none';\n",
              "\n",
              "        async function convertToInteractive(key) {\n",
              "          const element = document.querySelector('#df-371fdb85-9890-4167-b0cc-002ee1fd4b05');\n",
              "          const dataTable =\n",
              "            await google.colab.kernel.invokeFunction('convertToInteractive',\n",
              "                                                     [key], {});\n",
              "          if (!dataTable) return;\n",
              "\n",
              "          const docLinkHtml = 'Like what you see? Visit the ' +\n",
              "            '<a target=\"_blank\" href=https://colab.research.google.com/notebooks/data_table.ipynb>data table notebook</a>'\n",
              "            + ' to learn more about interactive tables.';\n",
              "          element.innerHTML = '';\n",
              "          dataTable['output_type'] = 'display_data';\n",
              "          await google.colab.output.renderOutput(dataTable, element);\n",
              "          const docLink = document.createElement('div');\n",
              "          docLink.innerHTML = docLinkHtml;\n",
              "          element.appendChild(docLink);\n",
              "        }\n",
              "      </script>\n",
              "    </div>\n",
              "  </div>\n",
              "  "
            ]
          },
          "metadata": {},
          "execution_count": 43
        }
      ]
    },
    {
      "cell_type": "markdown",
      "source": [
        "###Time Series Analysis"
      ],
      "metadata": {
        "id": "9VGw5rjYKXr7"
      }
    },
    {
      "cell_type": "code",
      "source": [
        "import seaborn as sns \n",
        "data = magnitude[magnitude['adm_level'] == 'Country']\n",
        "sns.lineplot(x='Year',y='Magnitude of Poor Population',data=magnitude)\n",
        "plt.ylabel('Population (in millions)')\n",
        "plt.title(\" Poor Population Over Time\")\n",
        "plt.xticks(np.arange(min(year), max(year)+1, 3.0), rotation = 25)\n",
        "plt.show()"
      ],
      "metadata": {
        "colab": {
          "base_uri": "https://localhost:8080/",
          "height": 485
        },
        "id": "vlFjn6qghIMv",
        "outputId": "cb33e333-3d8f-47a8-e774-d457260802ef"
      },
      "execution_count": null,
      "outputs": [
        {
          "output_type": "display_data",
          "data": {
            "text/plain": [
              "<Figure size 640x480 with 1 Axes>"
            ],
            "image/png": "[encoded data removed]"
          },
          "metadata": {}
        }
      ]
    },
    {
      "cell_type": "code",
      "source": [
        "data = magnitude[magnitude['adm_level'] == 'Country']\n",
        "sns.lineplot(x='Year',y='Magnitude of Subsistence Poor Population',data=magnitude)\n",
        "plt.ylabel('Population')\n",
        "plt.title(\"Subsistence Poor Population Over Time\")\n",
        "plt.xticks(np.arange(min(year), max(year)+1, 3.0), rotation = 25)\n",
        "plt.show()"
      ],
      "metadata": {
        "colab": {
          "base_uri": "https://localhost:8080/",
          "height": 485
        },
        "id": "Tlnjg4s5vPja",
        "outputId": "f1a7e957-54a3-4eec-f30b-eb902141cc7d"
      },
      "execution_count": null,
      "outputs": [
        {
          "output_type": "display_data",
          "data": {
            "text/plain": [
              "<Figure size 640x480 with 1 Axes>"
            ],
            "image/png": "[encoded data removed]"
          },
          "metadata": {}
        }
      ]
    },
    {
      "cell_type": "code",
      "source": [
        "import seaborn as sns \n",
        "sns.lineplot(x='Year',y='Magnitude of Poor Population',data=magnitude)\n",
        "sns.lineplot(x='Year',y='Magnitude of Subsistence Poor Population',data=magnitude)\n",
        "plt.ylabel('Population (in millions)')\n",
        "plt.title(\" Poor and Subsistence Poor Population Over Time\")\n",
        "plt.xticks(np.arange(min(year), max(year)+1, 3.0), rotation = 25)\n",
        "plt.show()"
      ],
      "metadata": {
        "colab": {
          "base_uri": "https://localhost:8080/",
          "height": 485
        },
        "id": "yYDXZQ8j0cpR",
        "outputId": "b10857d4-0188-4455-c9ff-32b68999226d"
      },
      "execution_count": null,
      "outputs": [
        {
          "output_type": "display_data",
          "data": {
            "text/plain": [
              "<Figure size 640x480 with 1 Axes>"
            ],
            "image/png": "[encoded data removed]"
          },
          "metadata": {}
        }
      ]
    },
    {
      "cell_type": "markdown",
      "source": [
        "###Normality Test (Kolmogorov Smirnov)"
      ],
      "metadata": {
        "id": "wOT_EB29J3QX"
      }
    },
    {
      "cell_type": "markdown",
      "source": [
        "Using Kolmogorov Smirnov test to determine whether the data is normally distributed or not"
      ],
      "metadata": {
        "id": "cbkaCO5nq3ZK"
      }
    },
    {
      "cell_type": "code",
      "source": [
        "from scipy.stats import kstest\n",
        "stat,p = kstest(magnitude['Magnitude of Poor Population'], 'norm')\n",
        "print(f\"stat = {stat:.3f}, p = {p:.3f}\")\n",
        "if p > 0.05:\n",
        "  print(\"Normally Distributed\")\n",
        "else:\n",
        "  print(\"Not Normally Distributed\")"
      ],
      "metadata": {
        "colab": {
          "base_uri": "https://localhost:8080/"
        },
        "id": "0qtqDW5oIWN0",
        "outputId": "c206b02e-cda3-4577-b6df-5ffbd23b0c53"
      },
      "execution_count": null,
      "outputs": [
        {
          "output_type": "stream",
          "name": "stdout",
          "text": [
            "stat = 0.998, p = 0.000\n",
            "Not Normally Distributed\n"
          ]
        }
      ]
    },
    {
      "cell_type": "code",
      "source": [
        "stat,p = kstest(magnitude['Magnitude of Subsistence Poor Population'], 'norm')\n",
        "print(f\"stat = {stat:.3f}, p = {p:.3f}\")\n",
        "if p > 0.05:\n",
        "  print(\"Normally Distributed\")\n",
        "else:\n",
        "  print(\"Not Normally Distributed\")"
      ],
      "metadata": {
        "colab": {
          "base_uri": "https://localhost:8080/"
        },
        "id": "MF5Jm15EqzOT",
        "outputId": "112f25e9-823c-4624-f856-75622c7d0cee"
      },
      "execution_count": null,
      "outputs": [
        {
          "output_type": "stream",
          "name": "stdout",
          "text": [
            "stat = 0.975, p = 0.000\n",
            "Not Normally Distributed\n"
          ]
        }
      ]
    },
    {
      "cell_type": "markdown",
      "source": [
        "###Determine if there is a significant change in population over time (Kruskal Wallis) "
      ],
      "metadata": {
        "id": "H5oUK-P5Lu9m"
      }
    },
    {
      "cell_type": "markdown",
      "source": [
        "We want to determine if the change in population value is significant throughout the years considered. \n",
        "\n",
        "Since the dataset has a non-normal distribution, a non-parametric Kruskal Wallis test will be employed. "
      ],
      "metadata": {
        "id": "3ILGuh0wNZ10"
      }
    },
    {
      "cell_type": "markdown",
      "source": [
        "###Hypothesis Testing"
      ],
      "metadata": {
        "id": "5IO8R5_pRekj"
      }
    },
    {
      "cell_type": "markdown",
      "source": [
        "Ho : There is no significant difference in the magnitude of poor population between the years 2006, 2009, 2012, and 2015.  </br> \n",
        "\n",
        "Ha: There is a significant difference in the magnitude of poor population between the years 2006, 2009, 2012, and 2015. "
      ],
      "metadata": {
        "id": "Xj6KEi52QqGh"
      }
    },
    {
      "cell_type": "code",
      "source": [
        "from scipy.stats import kruskal\n",
        "stat,p = kruskal(*[magnitude['Magnitude of Poor Population'].values \n",
        "                   for value, year in magnitude.groupby('Year')])\n",
        "print(f\"stat = {stat:.3f}, p = {p:.3f}\")\n",
        "if p > 0.05:\n",
        "  print(\"There is no significant change in the poor population over time. \")\n",
        "else:\n",
        "  print(\"There is a significant change in the poor population over time. \")"
      ],
      "metadata": {
        "colab": {
          "base_uri": "https://localhost:8080/"
        },
        "id": "o7jaAvTRL44g",
        "outputId": "7d741009-ab9a-4be8-d7cb-d1c5a11a46a3"
      },
      "execution_count": null,
      "outputs": [
        {
          "output_type": "stream",
          "name": "stdout",
          "text": [
            "stat = 0.000, p = 1.000\n",
            "There is no significant change in the poor population over time. \n"
          ]
        }
      ]
    },
    {
      "cell_type": "markdown",
      "source": [
        "Ho : There is no significant difference in the magnitude of subsistence poor population between the years 2006, 2009, 2012, and 2015.  </br> \n",
        "\n",
        "Ha: There is a significant difference in the magnitude of subsistence poor population between the years 2006, 2009, 2012, and 2015. "
      ],
      "metadata": {
        "id": "BtqaBImlRKWW"
      }
    },
    {
      "cell_type": "code",
      "source": [
        "from scipy.stats import kruskal\n",
        "stat,p = kruskal(*[magnitude['Magnitude of Subsistence Poor Population'].values \n",
        "                   for value, year in magnitude.groupby('Year')])\n",
        "print(f\"stat = {stat:.3f}, p = {p:.3f}\")\n",
        "if p > 0.05:\n",
        "  print(\"There is no significant change in the  subsistence poor population over time. \")\n",
        "else:\n",
        "  print(\"There is a significant change in the subsistence poor population over time. \")"
      ],
      "metadata": {
        "colab": {
          "base_uri": "https://localhost:8080/"
        },
        "id": "sbo5TaR1NW_U",
        "outputId": "bb4a18f5-fec5-4013-8cba-f8a16d5cc4e9"
      },
      "execution_count": null,
      "outputs": [
        {
          "output_type": "stream",
          "name": "stdout",
          "text": [
            "stat = 0.000, p = 1.000\n",
            "There is no significant change in the subsistence poor population over time. \n"
          ]
        }
      ]
    },
    {
      "cell_type": "markdown",
      "source": [
        "###Interpretation"
      ],
      "metadata": {
        "id": "UIRcdLOFRjQD"
      }
    },
    {
      "cell_type": "markdown",
      "source": [
        "The Kruskal Wallis Test shows that the p-value is greater than the alpha = 0.05 for both tests. Hence, we fail to reject the null hypotheses at a significance level of 5%. This implies that there is no significant change in the magnitude of poor population between the years 2006, 2009, 2012, and 2015. The same statement can be said on the magnitude of subsistence poor population. "
      ],
      "metadata": {
        "id": "YhKGgSt2PKme"
      }
    },
    {
      "cell_type": "markdown",
      "source": [
        "###Correlation Analysis (Spearman rho)"
      ],
      "metadata": {
        "id": "GPg8iwiQsTRm"
      }
    },
    {
      "cell_type": "markdown",
      "source": [
        "Since both columns are not normally distributed, a nonparametric correlation test or the Spearman Rho test will be employed. </br>\n",
        "\n",
        "We test our claim stating that there is a significant positive correlation between magnitude of poor population and subsistence poor population since the latter is an extension of the second variable incorporating non-essential requirements for living. "
      ],
      "metadata": {
        "id": "ygd9_EtBsgd8"
      }
    },
    {
      "cell_type": "code",
      "source": [
        "from scipy.stats import spearmanr\n",
        "coef,p =spearmanr(magnitude['Magnitude of Poor Population'],magnitude['Magnitude of Subsistence Poor Population'])\n",
        "alpha = 0.5\n",
        "print(f'Spearman correlation coefficient is {coef:.2f}')\n",
        "if p > alpha:\n",
        "  print(f'There is no significant correlation between the columns (p = {p}) ')\n",
        "else: \n",
        "  print(f'There is a significant correlation between the columns (p = {p})')"
      ],
      "metadata": {
        "colab": {
          "base_uri": "https://localhost:8080/"
        },
        "id": "vH3VNMJEsqpQ",
        "outputId": "4f936426-3c79-47c8-c022-0d9046311e66"
      },
      "execution_count": null,
      "outputs": [
        {
          "output_type": "stream",
          "name": "stdout",
          "text": [
            "Spearman correlation coefficient is 0.96\n",
            "There is a significant correlation between the columns (p = 8.546803329972053e-215)\n"
          ]
        }
      ]
    },
    {
      "cell_type": "markdown",
      "source": [
        "The spearman rho analysis shows that there is a significant relationship between the magnitude of poor population and subsistence poor population (p=0.000). The correlation coefficient of 0.96 demonstrates that there is a strong positive association between the two variables. This implies that when the number of individuals within a population that fall below the poverty line increases, the number of individuals within a population who are living in subsistence poverty escalates. "
      ],
      "metadata": {
        "id": "STkFUdiUu0P-"
      }
    },
    {
      "cell_type": "code",
      "source": [
        "import seaborn as sns\n",
        "\n",
        "sns.pairplot(magnitude[['Magnitude of Poor Population','Magnitude of Subsistence Poor Population']], \n",
        "            diag_kind = 'hist',height = 2.5,aspect =2.5)\n",
        "plt.show()"
      ],
      "metadata": {
        "colab": {
          "base_uri": "https://localhost:8080/",
          "height": 513
        },
        "id": "io5YjCMiTF7V",
        "outputId": "cb2796be-2bd4-454f-825d-6bb28711cc34"
      },
      "execution_count": null,
      "outputs": [
        {
          "output_type": "display_data",
          "data": {
            "text/plain": [
              "<Figure size 1250x500 with 6 Axes>"
            ],
            "image/png": "[encoded data removed]"
          },
          "metadata": {}
        }
      ]
    },
    {
      "cell_type": "markdown",
      "source": [
        "More focused visualization using `jointplot` in seaborn"
      ],
      "metadata": {
        "id": "GRFNJ_2sau7x"
      }
    },
    {
      "cell_type": "code",
      "source": [
        "import seaborn as sns\n",
        "\n",
        "sns.jointplot(data = magnitude, x= \"Magnitude of Poor Population\",y=\"Magnitude of Subsistence Poor Population\", \n",
        "              height =5)\n",
        "plt.show()"
      ],
      "metadata": {
        "colab": {
          "base_uri": "https://localhost:8080/",
          "height": 506
        },
        "id": "8hLaCagGYW-K",
        "outputId": "79395fd6-4507-4b78-c860-ff5a8675836c"
      },
      "execution_count": null,
      "outputs": [
        {
          "output_type": "display_data",
          "data": {
            "text/plain": [
              "<Figure size 500x500 with 3 Axes>"
            ],
            "image/png": "[encoded data removed]"
          },
          "metadata": {}
        }
      ]
    }
  ]
}
