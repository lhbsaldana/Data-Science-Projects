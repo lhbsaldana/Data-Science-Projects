{
  "cells": [
    {
      "cell_type": "markdown",
      "metadata": {
        "colab_type": "text",
        "id": "view-in-github"
      },
      "source": [
        "<a href=\"https://colab.research.google.com/github/lhbsaldana/Data-Science-Projects/blob/main/Saldana_Finals.ipynb\" target=\"_parent\"><img src=\"https://colab.research.google.com/assets/colab-badge.svg\" alt=\"Open In Colab\"/></a>"
      ]
    },
    {
      "cell_type": "code",
      "execution_count": null,
      "metadata": {
        "id": "ZEnThc1x5qtQ"
      },
      "outputs": [],
      "source": [
        "\n",
        "import numpy as np\n",
        "import pandas as pd\n",
        "\n",
        "# for visualization\n",
        "import matplotlib.pyplot as plt\n",
        "import seaborn as sns\n",
        "\n",
        "# Natural Language Processing\n",
        "from sklearn.feature_extraction import _stop_words\n",
        "from sklearn.feature_extraction.text import TfidfVectorizer, TfidfTransformer\n",
        "from sklearn.model_selection import train_test_split\n",
        "\n",
        "#for classification models \n",
        "from sklearn.linear_model import LogisticRegression\n",
        "from sklearn.naive_bayes import MultinomialNB\n",
        "from sklearn.linear_model import PassiveAggressiveClassifier\n",
        "from sklearn import metrics\n",
        "from sklearn.metrics import accuracy_score, recall_score, precision_score, confusion_matrix"
      ]
    },
    {
      "cell_type": "markdown",
      "metadata": {
        "id": "vtUhvEhh2lur"
      },
      "source": [
        "\n"
      ]
    },
    {
      "cell_type": "code",
      "execution_count": null,
      "metadata": {
        "id": "STL8aATq82NR"
      },
      "outputs": [],
      "source": [
        "#import data \n",
        "drive.mount('/content/drive')\n",
        "directory = \"/content/drive/MyDrive/Colab Notebooks/\" \n",
        "data_news = pd.read_csv(directory + 'news.csv')\n",
        "data_news.shape"
      ]
    },
    {
      "cell_type": "code",
      "execution_count": null,
      "metadata": {
        "id": "EEmPSJej_cAe"
      },
      "outputs": [],
      "source": [
        "#data cleaning \n",
        "data_news['content'] = data_news['title']+ data_news['text']\n",
        "print(data_news['content'])\n",
        "\n",
        "data_news.drop_duplicates(subset =\"content\",inplace = True) #remove duplicate rows \n",
        "data_news['content']= data_news['content'].str.replace('[^\\w\\s]',' ') #remove punctuation\n",
        "data_news['content'] = data_news['content'].str.replace('[^A-Za-z]',' ') #remove numbers\n",
        "data_news['content'] = data_news['content'].str.replace('  ',' ')#transform double space to single space \n",
        "data_news['content'] = data_news['content'].str.lower() #transform to lowercase \n",
        "\n",
        "#data_news['label'] = data_news['label'].map({\"REAL\": 1, \"FAKE\": 0}) #tranform labels to numerical values \n",
        "data_news.shape"
      ]
    },
    {
      "cell_type": "code",
      "execution_count": null,
      "metadata": {
        "id": "evm8oZ-FETov"
      },
      "outputs": [],
      "source": [
        "X = data_news.content #predictor column \n",
        "Y = data_news.label #target column \n",
        "\n",
        "#split data into train and test data \n",
        "x_train, x_test, y_train, y_test = train_test_split(X,Y, test_size = 0.2, random_state=7)"
      ]
    },
    {
      "cell_type": "code",
      "execution_count": null,
      "metadata": {
        "id": "dv4Pn1sZ1Fby"
      },
      "outputs": [],
      "source": [
        "#Vectorization - unique words as vectors of real numbers \n",
        "tfidf_vectorizer=TfidfVectorizer(stop_words='english', max_df=0.7)\n",
        "#Fit and transform train set, transform test set\n",
        "tfidf_train=tfidf_vectorizer.fit_transform(x_train) \n",
        "tfidf_test=tfidf_vectorizer.transform(x_test)\n"
      ]
    },
    {
      "cell_type": "code",
      "execution_count": null,
      "metadata": {
        "colab": {
          "base_uri": "https://localhost:8080/"
        },
        "id": "DzU8tCYwFzkY",
        "outputId": "5714f1ac-6479-40bc-b028-c35be884c5a9"
      },
      "outputs": [
        {
          "name": "stdout",
          "output_type": "stream",
          "text": [
            "Accuracy: 83.6%\n",
            "Precision: 98.72%\n",
            "Recall: 69.64%\n",
            "[[461 201]\n",
            " [  6 594]]\n"
          ]
        }
      ],
      "source": [
        "#MODELLING USING MULTINOMIAL NAIVE-BAYES\n",
        "NB = MultinomialNB()\n",
        "NB.fit(tfidf_train, y_train)\n",
        "y_pred=NB.predict(tfidf_test)\n",
        "score=accuracy_score(y_test,y_pred)\n",
        "acc_score=accuracy_score(y_test,y_pred)\n",
        "prec_score= precision_score(y_test,y_pred,pos_label='FAKE')\n",
        "rec_score = recall_score(y_test,y_pred, pos_label='FAKE')\n",
        "print(f'Accuracy: {round(acc_score*100,2)}%')\n",
        "print(f'Precision: {round(prec_score*100,2)}%')\n",
        "print(f'Recall: {round(rec_score*100,2)}%')\n",
        "con_mtrx1= confusion_matrix(y_test,y_pred, labels=['FAKE','REAL'])\n",
        "print(con_mtrx1)"
      ]
    },
    {
      "cell_type": "code",
      "execution_count": null,
      "metadata": {
        "colab": {
          "base_uri": "https://localhost:8080/",
          "height": 325
        },
        "id": "Yy623GChc0Gx",
        "outputId": "225e22a9-4bcb-47e4-e0dc-7f2aa0fdf38e"
      },
      "outputs": [
        {
          "data": {
            "image/png": "[encoded data removed]",
            "text/plain": [
              "<Figure size 432x288 with 2 Axes>"
            ]
          },
          "metadata": {
            "needs_background": "light"
          },
          "output_type": "display_data"
        }
      ],
      "source": [
        "#Confusion Matrix for Multinomial NB\n",
        "con_mtrx1 = confusion_matrix(y_test,y_pred, labels=['FAKE','REAL'])\n",
        "class_names=['FAKE','REAL'] \n",
        "\n",
        "fig, ax = plt.subplots()\n",
        "tick_marks = np.arange(len(class_names))\n",
        "sns.heatmap(pd.DataFrame(con_mtrx1), annot=True, cmap=\"Greens\" ,fmt='g')\n",
        "ax.xaxis.set_label_position(\"top\")\n",
        "ax.xaxis.tick_top()\n",
        "plt.tight_layout()\n",
        "plt.title('Confusion Matrix for Model 1', y=1.1)\n",
        "plt.ylabel('Actual label')\n",
        "plt.xlabel('Predicted label')\n",
        "ax.xaxis.set_ticklabels(['FAKE', 'REAL']);\n",
        "ax.yaxis.set_ticklabels(['FAKE', 'REAL']);"
      ]
    },
    {
      "cell_type": "code",
      "execution_count": null,
      "metadata": {
        "colab": {
          "base_uri": "https://localhost:8080/"
        },
        "id": "F9O1FRu0Gt27",
        "outputId": "b142ff74-8579-4ddd-a22b-eee3fa732ef8"
      },
      "outputs": [
        {
          "name": "stdout",
          "output_type": "stream",
          "text": [
            "Accuracy: 92.08%\n",
            "Precision: 90.37%\n",
            "Recall: 95.02%\n"
          ]
        }
      ],
      "source": [
        "#MODELLING USING LOGISTIC REGRESSION \n",
        "REG = LogisticRegression()\n",
        "REG.fit(tfidf_train, y_train)\n",
        "y_pred=REG.predict(tfidf_test)\n",
        "acc_score=accuracy_score(y_test,y_pred)\n",
        "prec_score= precision_score(y_test,y_pred,pos_label='FAKE')\n",
        "rec_score = recall_score(y_test,y_pred, pos_label='FAKE')\n",
        "print(f'Accuracy: {round(acc_score*100,2)}%')\n",
        "print(f'Precision: {round(prec_score*100,2)}%')\n",
        "print(f'Recall: {round(rec_score*100,2)}%')"
      ]
    },
    {
      "cell_type": "code",
      "execution_count": null,
      "metadata": {
        "colab": {
          "base_uri": "https://localhost:8080/",
          "height": 360
        },
        "id": "XO0SLLPncvl0",
        "outputId": "2825ee83-adeb-4907-ae52-38772d630017"
      },
      "outputs": [
        {
          "name": "stdout",
          "output_type": "stream",
          "text": [
            "[[629  33]\n",
            " [ 67 533]]\n"
          ]
        },
        {
          "data": {
            "image/png": "[encoded data removed]",
            "text/plain": [
              "<Figure size 432x288 with 2 Axes>"
            ]
          },
          "metadata": {
            "needs_background": "light"
          },
          "output_type": "display_data"
        }
      ],
      "source": [
        "#Confusion Matrix for Logistic Regression \n",
        "con_mtrx2 = confusion_matrix(y_test,y_pred, labels=['FAKE','REAL'])\n",
        "print(con_mtrx2)\n",
        "class_names=['FAKE','REAL'] \n",
        "\n",
        "fig, ax = plt.subplots()\n",
        "tick_marks = np.arange(len(class_names))\n",
        "sns.heatmap(pd.DataFrame(con_mtrx2), annot=True, cmap=\"Greens\" ,fmt='g')\n",
        "ax.xaxis.set_label_position(\"top\")\n",
        "ax.xaxis.tick_top()\n",
        "plt.tight_layout()\n",
        "plt.title('Confusion matrix for Model 2', y=1.1)\n",
        "plt.ylabel('Actual label')\n",
        "plt.xlabel('Predicted label')\n",
        "ax.xaxis.set_ticklabels(['FAKE', 'REAL']);\n",
        "ax.yaxis.set_ticklabels(['FAKE', 'REAL']);"
      ]
    },
    {
      "cell_type": "code",
      "execution_count": null,
      "metadata": {
        "colab": {
          "base_uri": "https://localhost:8080/"
        },
        "id": "p74ByHCGH2Pf",
        "outputId": "c379c84a-c1dc-46ad-c656-676452d9a10d"
      },
      "outputs": [
        {
          "name": "stdout",
          "output_type": "stream",
          "text": [
            "Accuracy: 93.9%\n",
            "Precision: 94.39%\n",
            "Recall: 93.96%\n"
          ]
        }
      ],
      "source": [
        " #MODELLING USING Passive Aggressive Classifier \n",
        "PA =PassiveAggressiveClassifier(max_iter=50)\n",
        "PA.fit(tfidf_train,y_train)\n",
        "y_pred=PA.predict(tfidf_test)\n",
        "acc_score=accuracy_score(y_test,y_pred)\n",
        "prec_score= precision_score(y_test,y_pred,pos_label='FAKE')\n",
        "rec_score = recall_score(y_test,y_pred, pos_label='FAKE')\n",
        "print(f'Accuracy: {round(acc_score*100,2)}%')\n",
        "print(f'Precision: {round(prec_score*100,2)}%')\n",
        "print(f'Recall: {round(rec_score*100,2)}%')"
      ]
    },
    {
      "cell_type": "code",
      "execution_count": null,
      "metadata": {
        "colab": {
          "base_uri": "https://localhost:8080/",
          "height": 360
        },
        "id": "yC5ZnxusHVMx",
        "outputId": "59bc6672-859f-42b6-e585-17e04b673855"
      },
      "outputs": [
        {
          "name": "stdout",
          "output_type": "stream",
          "text": [
            "[[622  40]\n",
            " [ 37 563]]\n"
          ]
        },
        {
          "data": {
            "image/png": "[encoded data removed]",
            "text/plain": [
              "<Figure size 432x288 with 2 Axes>"
            ]
          },
          "metadata": {
            "needs_background": "light"
          },
          "output_type": "display_data"
        }
      ],
      "source": [
        "#Confusion Matrix for Passive Aggressive Classifier\n",
        "con_mtrx3 = confusion_matrix(y_test,y_pred, labels=['FAKE','REAL'])\n",
        "print(con_mtrx3)\n",
        "class_names=['FAKE','REAL'] \n",
        "\n",
        "fig, ax = plt.subplots()\n",
        "tick_marks = np.arange(len(class_names))\n",
        "sns.heatmap(pd.DataFrame(con_mtrx3), annot=True, cmap=\"Greens\" ,fmt='g')\n",
        "ax.xaxis.set_label_position(\"top\")\n",
        "ax.xaxis.tick_top()\n",
        "plt.tight_layout()\n",
        "plt.title('Confusion Matrix for Model 3', y=1.1)\n",
        "plt.ylabel('Actual label')\n",
        "plt.xlabel('Predicted label')\n",
        "ax.xaxis.set_ticklabels(['FAKE', 'REAL']);\n",
        "ax.yaxis.set_ticklabels(['FAKE', 'REAL']);"
      ]
    }
  ],
  "metadata": {
    "colab": {
      "authorship_tag": "ABX9TyNrmejkweRzQ5KbLlDPmUiK",
      "include_colab_link": true,
      "provenance": []
    },
    "kernelspec": {
      "display_name": "Python 3",
      "name": "python3"
    },
    "language_info": {
      "name": "python"
    }
  },
  "nbformat": 4,
  "nbformat_minor": 0
}
